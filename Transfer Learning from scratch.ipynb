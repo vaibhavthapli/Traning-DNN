{
 "cells": [
  {
   "cell_type": "markdown",
   "metadata": {},
   "source": [
    "# Reusing Pretrained Layers\n",
    "**"
   ]
  },
  {
   "cell_type": "markdown",
   "metadata": {},
   "source": [
    "**Suppose the Fashion MNIST dataset only contains eight classes. Someone built and trained a keras model.\n",
    "and another man built a model of 2 classes of MNIST dataset so, he can use first pretrained model."
   ]
  },
  {
   "cell_type": "markdown",
   "metadata": {},
   "source": [
    "Let's split the fashion MNIst training set in two:\n",
    "* `X_train_A` : all images of items except for sandals and shirts (classes 5 and 6).\n",
    "* `X_train_B` : a much smaller training set of just the first 200 images of sandals or shirts.\n",
    "\n",
    "The validation set and the test set are also split this way, but without restricting the number of images.\n",
    "\n",
    "We will train a model on set A (classification task with 8 classes), and try to reuse it to tackle set B (binary classification). We hope to transfer a little bit of knowledge from task A to task B, since classes in set A (sneakers, ankle boots, coats, t-shirts, etc.) are somewhat similar to classes in set B (sandals and shirts). However, since we are using `Dense` layers, only patterns that occur at the same location can be reused (in contrast, convolutional layers will transfer much better, since learned patterns can be detected anywhere on the image, as we will see in the CNN chapter)."
   ]
  },
  {
   "cell_type": "code",
   "execution_count": 1,
   "metadata": {},
   "outputs": [],
   "source": [
    "import pandas as pd\n",
    "import numpy as np\n",
    "import tensorflow as tf\n",
    "from tensorflow import keras\n",
    "from tensorflow.keras import layers\n",
    "import matplotlib.pyplot as plt\n",
    "import seaborn as sns"
   ]
  },
  {
   "cell_type": "code",
   "execution_count": 2,
   "metadata": {},
   "outputs": [],
   "source": [
    "# load data\n",
    "fashion_mnist = keras.datasets.fashion_mnist\n",
    "(X_train_full, Y_train_full), (X_test_full, Y_test_full) = fashion_mnist.load_data()"
   ]
  },
  {
   "cell_type": "code",
   "execution_count": 3,
   "metadata": {},
   "outputs": [],
   "source": [
    "class_names = [\"T-shirt/top\", \"Trouser\", \"Pullover\", \"Dress\", \"Coat\",\n",
    "               \"Sandal\", \"Shirt\", \"Sneaker\", \"Bag\", \"Ankle boot\"]"
   ]
  },
  {
   "cell_type": "code",
   "execution_count": 4,
   "metadata": {},
   "outputs": [],
   "source": [
    "# split data in A and B\n",
    "def split_dataset(X,Y):\n",
    "    Y_5_or_6 = (Y==5) | (Y==6) #sandals or shirts\n",
    "    Y_A = Y[~Y_5_or_6]\n",
    "    Y_A[Y_A > 6] -= 2 # class indices 7, 8, 9 should be moved to 5, 6, 7\n",
    "    Y_B = (Y[Y_5_or_6] == 6).astype(np.float32) # binary classification task: is it a shirt (class 6)?\n",
    "    return ((X[~Y_5_or_6], Y_A),\n",
    "            (X[Y_5_or_6], Y_B))\n",
    "(X_train_A, Y_train_A), (X_train_B, Y_train_B) = split_dataset(X_train_full, Y_train_full)\n",
    "(X_test_A, Y_test_A), (X_test_B, Y_test_B) = split_dataset(X_test_full, Y_test_full)\n"
   ]
  },
  {
   "cell_type": "code",
   "execution_count": 5,
   "metadata": {},
   "outputs": [
    {
     "data": {
      "text/plain": [
       "(48000, 28, 28)"
      ]
     },
     "execution_count": 5,
     "metadata": {},
     "output_type": "execute_result"
    }
   ],
   "source": [
    "X_train_A.shape"
   ]
  },
  {
   "cell_type": "code",
   "execution_count": 6,
   "metadata": {},
   "outputs": [
    {
     "data": {
      "text/plain": [
       "(12000, 28, 28)"
      ]
     },
     "execution_count": 6,
     "metadata": {},
     "output_type": "execute_result"
    }
   ],
   "source": [
    "X_train_B.shape"
   ]
  },
  {
   "cell_type": "code",
   "execution_count": 7,
   "metadata": {},
   "outputs": [
    {
     "data": {
      "text/plain": [
       "(8000, 28, 28)"
      ]
     },
     "execution_count": 7,
     "metadata": {},
     "output_type": "execute_result"
    }
   ],
   "source": [
    "X_test_A.shape"
   ]
  },
  {
   "cell_type": "code",
   "execution_count": 8,
   "metadata": {},
   "outputs": [
    {
     "data": {
      "text/plain": [
       "(2000, 28, 28)"
      ]
     },
     "execution_count": 8,
     "metadata": {},
     "output_type": "execute_result"
    }
   ],
   "source": [
    "X_test_B.shape"
   ]
  },
  {
   "cell_type": "code",
   "execution_count": 9,
   "metadata": {},
   "outputs": [
    {
     "data": {
      "text/plain": [
       "1.0"
      ]
     },
     "execution_count": 9,
     "metadata": {},
     "output_type": "execute_result"
    }
   ],
   "source": [
    "Y_train_B[4]\n"
   ]
  },
  {
   "cell_type": "code",
   "execution_count": 10,
   "metadata": {},
   "outputs": [
    {
     "data": {
      "image/png": "[encoded data removed]",
      "text/plain": [
       "<Figure size 432x288 with 1 Axes>"
      ]
     },
     "metadata": {
      "needs_background": "light"
     },
     "output_type": "display_data"
    }
   ],
   "source": [
    "plt.imshow(X_train_A[0], cmap = plt.cm.binary) # (use cmap for remove extra color)\n",
    "plt.show()"
   ]
  },
  {
   "cell_type": "code",
   "execution_count": 11,
   "metadata": {},
   "outputs": [
    {
     "data": {
      "image/png": "[encoded data removed]",
      "text/plain": [
       "<Figure size 432x288 with 1 Axes>"
      ]
     },
     "metadata": {
      "needs_background": "light"
     },
     "output_type": "display_data"
    }
   ],
   "source": [
    "plt.imshow(X_train_B[0], cmap = plt.cm.binary) # (use cmap for remove extra color)\n",
    "plt.show()"
   ]
  },
  {
   "cell_type": "code",
   "execution_count": 12,
   "metadata": {},
   "outputs": [
    {
     "data": {
      "image/png": "[encoded data removed]",
      "text/plain": [
       "<Figure size 432x288 with 1 Axes>"
      ]
     },
     "metadata": {
      "needs_background": "light"
     },
     "output_type": "display_data"
    }
   ],
   "source": [
    "plt.imshow(X_train_B[4], cmap = plt.cm.binary) # (use cmap for remove extra color)\n",
    "plt.show()"
   ]
  },
  {
   "cell_type": "markdown",
   "metadata": {},
   "source": [
    "**Now first working on A model**"
   ]
  },
  {
   "cell_type": "code",
   "execution_count": 13,
   "metadata": {},
   "outputs": [],
   "source": [
    "# data preprocessing\n",
    "X_train_A = tf.keras.utils.normalize(X_train_A,axis=1)\n",
    "X_test_A = tf.keras.utils.normalize(X_test_A,axis=1)\n",
    "\n",
    "X_train_B = tf.keras.utils.normalize(X_train_B,axis=1)\n",
    "X_test_B = tf.keras.utils.normalize(X_test_B,axis=1)"
   ]
  },
  {
   "cell_type": "code",
   "execution_count": 14,
   "metadata": {},
   "outputs": [
    {
     "data": {
      "image/png": "[encoded data removed]",
      "text/plain": [
       "<Figure size 432x288 with 1 Axes>"
      ]
     },
     "metadata": {
      "needs_background": "light"
     },
     "output_type": "display_data"
    }
   ],
   "source": [
    "plt.imshow(X_train_A[0], cmap = plt.cm.binary) # (use cmap for remove extra color)\n",
    "plt.show()"
   ]
  },
  {
   "cell_type": "code",
   "execution_count": 15,
   "metadata": {},
   "outputs": [
    {
     "data": {
      "image/png": "[encoded data removed]",
      "text/plain": [
       "<Figure size 432x288 with 1 Axes>"
      ]
     },
     "metadata": {
      "needs_background": "light"
     },
     "output_type": "display_data"
    }
   ],
   "source": [
    "plt.imshow(X_train_B[0], cmap = plt.cm.binary) # (use cmap for remove extra color)\n",
    "plt.show()"
   ]
  },
  {
   "cell_type": "code",
   "execution_count": 16,
   "metadata": {},
   "outputs": [],
   "source": [
    "keras.backend.clear_session()\n",
    "np.random.seed(42)\n",
    "tf.random.set_seed(42)"
   ]
  },
  {
   "cell_type": "code",
   "execution_count": 17,
   "metadata": {},
   "outputs": [],
   "source": [
    "model_A = keras.models.Sequential()\n",
    "model_A.add(keras.layers.Flatten(input_shape=[28,28]))\n",
    "for n_hidden in (300,100,50,50,50):\n",
    "    model_A.add(keras.layers.Dense(n_hidden,kernel_initializer=\"lecun_normal\",activation=\"selu\"))\n",
    "model_A.add(keras.layers.Dense(8,activation=\"softmax\"))"
   ]
  },
  {
   "cell_type": "code",
   "execution_count": 18,
   "metadata": {},
   "outputs": [
    {
     "name": "stdout",
     "output_type": "stream",
     "text": [
      "Model: \"sequential\"\n",
      "_________________________________________________________________\n",
      "Layer (type)                 Output Shape              Param #   \n",
      "=================================================================\n",
      "flatten (Flatten)            (None, 784)               0         \n",
      "_________________________________________________________________\n",
      "dense (Dense)                (None, 300)               235500    \n",
      "_________________________________________________________________\n",
      "dense_1 (Dense)              (None, 100)               30100     \n",
      "_________________________________________________________________\n",
      "dense_2 (Dense)              (None, 50)                5050      \n",
      "_________________________________________________________________\n",
      "dense_3 (Dense)              (None, 50)                2550      \n",
      "_________________________________________________________________\n",
      "dense_4 (Dense)              (None, 50)                2550      \n",
      "_________________________________________________________________\n",
      "dense_5 (Dense)              (None, 8)                 408       \n",
      "=================================================================\n",
      "Total params: 276,158\n",
      "Trainable params: 276,158\n",
      "Non-trainable params: 0\n",
      "_________________________________________________________________\n"
     ]
    }
   ],
   "source": [
    "model_A.summary()"
   ]
  },
  {
   "cell_type": "code",
   "execution_count": 19,
   "metadata": {},
   "outputs": [],
   "source": [
    "model_A.compile(loss=\"sparse_categorical_crossentropy\", \n",
    "               optimizer=keras.optimizers.SGD(lr=1e-3),\n",
    "               metrics=[\"accuracy\"])"
   ]
  },
  {
   "cell_type": "code",
   "execution_count": 20,
   "metadata": {},
   "outputs": [
    {
     "name": "stdout",
     "output_type": "stream",
     "text": [
      "Train on 38400 samples, validate on 9600 samples\n",
      "Epoch 1/20\n",
      "38400/38400 [==============================] - 6s 155us/sample - loss: 0.8511 - accuracy: 0.7650 - val_loss: 0.5230 - val_accuracy: 0.8375\n",
      "Epoch 2/20\n",
      "38400/38400 [==============================] - 3s 74us/sample - loss: 0.4573 - accuracy: 0.8502 - val_loss: 0.4050 - val_accuracy: 0.8608\n",
      "Epoch 3/20\n",
      "38400/38400 [==============================] - 3s 73us/sample - loss: 0.3820 - accuracy: 0.8694 - val_loss: 0.3573 - val_accuracy: 0.8708\n",
      "Epoch 4/20\n",
      "38400/38400 [==============================] - 3s 69us/sample - loss: 0.3456 - accuracy: 0.8797 - val_loss: 0.3370 - val_accuracy: 0.8772\n",
      "Epoch 5/20\n",
      "38400/38400 [==============================] - 3s 71us/sample - loss: 0.3237 - accuracy: 0.8865 - val_loss: 0.3152 - val_accuracy: 0.8870\n",
      "Epoch 6/20\n",
      "38400/38400 [==============================] - 3s 69us/sample - loss: 0.3092 - accuracy: 0.8915 - val_loss: 0.3074 - val_accuracy: 0.8901\n",
      "Epoch 7/20\n",
      "38400/38400 [==============================] - 3s 73us/sample - loss: 0.2983 - accuracy: 0.8952 - val_loss: 0.2958 - val_accuracy: 0.8950\n",
      "Epoch 8/20\n",
      "38400/38400 [==============================] - 3s 73us/sample - loss: 0.2893 - accuracy: 0.8991 - val_loss: 0.2881 - val_accuracy: 0.8983\n",
      "Epoch 9/20\n",
      "38400/38400 [==============================] - 3s 70us/sample - loss: 0.2818 - accuracy: 0.9026 - val_loss: 0.2854 - val_accuracy: 0.8975\n",
      "Epoch 10/20\n",
      "38400/38400 [==============================] - 3s 77us/sample - loss: 0.2753 - accuracy: 0.9043 - val_loss: 0.2781 - val_accuracy: 0.9019\n",
      "Epoch 11/20\n",
      "38400/38400 [==============================] - 3s 72us/sample - loss: 0.2698 - accuracy: 0.9068 - val_loss: 0.2731 - val_accuracy: 0.9038\n",
      "Epoch 12/20\n",
      "38400/38400 [==============================] - 3s 81us/sample - loss: 0.2648 - accuracy: 0.9088 - val_loss: 0.2704 - val_accuracy: 0.9041\n",
      "Epoch 13/20\n",
      "38400/38400 [==============================] - 3s 78us/sample - loss: 0.2603 - accuracy: 0.9111 - val_loss: 0.2675 - val_accuracy: 0.9045\n",
      "Epoch 14/20\n",
      "38400/38400 [==============================] - 3s 77us/sample - loss: 0.2560 - accuracy: 0.9124 - val_loss: 0.2643 - val_accuracy: 0.9070\n",
      "Epoch 15/20\n",
      "38400/38400 [==============================] - 3s 76us/sample - loss: 0.2526 - accuracy: 0.9140 - val_loss: 0.2614 - val_accuracy: 0.9075\n",
      "Epoch 16/20\n",
      "38400/38400 [==============================] - 3s 70us/sample - loss: 0.2494 - accuracy: 0.9145 - val_loss: 0.2600 - val_accuracy: 0.9090\n",
      "Epoch 17/20\n",
      "38400/38400 [==============================] - 3s 69us/sample - loss: 0.2464 - accuracy: 0.9164 - val_loss: 0.2599 - val_accuracy: 0.9069\n",
      "Epoch 18/20\n",
      "38400/38400 [==============================] - 3s 73us/sample - loss: 0.2435 - accuracy: 0.9168 - val_loss: 0.2552 - val_accuracy: 0.9102\n",
      "Epoch 19/20\n",
      "38400/38400 [==============================] - 3s 86us/sample - loss: 0.2410 - accuracy: 0.9186 - val_loss: 0.2574 - val_accuracy: 0.9077\n",
      "Epoch 20/20\n",
      "38400/38400 [==============================] - 3s 83us/sample - loss: 0.2385 - accuracy: 0.9196 - val_loss: 0.2591 - val_accuracy: 0.9067\n"
     ]
    }
   ],
   "source": [
    "history_A= model_A.fit(X_train_A, Y_train_A, epochs=20,\n",
    "                     validation_split= 0.2 )"
   ]
  },
  {
   "cell_type": "markdown",
   "metadata": {},
   "source": [
    "**Model_A has 90% accuracy Now Save it**"
   ]
  },
  {
   "cell_type": "code",
   "execution_count": 21,
   "metadata": {},
   "outputs": [],
   "source": [
    "model_A.save(\"my_model_A.h5\")"
   ]
  },
  {
   "cell_type": "markdown",
   "metadata": {},
   "source": [
    "**Now make Model_B**"
   ]
  },
  {
   "cell_type": "code",
   "execution_count": 22,
   "metadata": {},
   "outputs": [],
   "source": [
    "model_B = keras.models.Sequential()\n",
    "model_B.add(keras.layers.Flatten(input_shape=[28,28]))\n",
    "for n_hidden in (300,100,50,50,50):\n",
    "    model_B.add(keras.layers.Dense(n_hidden,kernel_initializer=\"lecun_normal\",activation=\"selu\"))\n",
    "model_B.add(keras.layers.Dense(1,activation=\"sigmoid\"))"
   ]
  },
  {
   "cell_type": "code",
   "execution_count": 23,
   "metadata": {},
   "outputs": [
    {
     "name": "stdout",
     "output_type": "stream",
     "text": [
      "Model: \"sequential_1\"\n",
      "_________________________________________________________________\n",
      "Layer (type)                 Output Shape              Param #   \n",
      "=================================================================\n",
      "flatten_1 (Flatten)          (None, 784)               0         \n",
      "_________________________________________________________________\n",
      "dense_6 (Dense)              (None, 300)               235500    \n",
      "_________________________________________________________________\n",
      "dense_7 (Dense)              (None, 100)               30100     \n",
      "_________________________________________________________________\n",
      "dense_8 (Dense)              (None, 50)                5050      \n",
      "_________________________________________________________________\n",
      "dense_9 (Dense)              (None, 50)                2550      \n",
      "_________________________________________________________________\n",
      "dense_10 (Dense)             (None, 50)                2550      \n",
      "_________________________________________________________________\n",
      "dense_11 (Dense)             (None, 1)                 51        \n",
      "=================================================================\n",
      "Total params: 275,801\n",
      "Trainable params: 275,801\n",
      "Non-trainable params: 0\n",
      "_________________________________________________________________\n"
     ]
    }
   ],
   "source": [
    "model_B.summary()"
   ]
  },
  {
   "cell_type": "code",
   "execution_count": 24,
   "metadata": {},
   "outputs": [],
   "source": [
    "model_B.compile(loss=\"binary_crossentropy\",\n",
    "               optimizer=keras.optimizers.SGD(lr=1e-3),\n",
    "               metrics=[\"accuracy\"])"
   ]
  },
  {
   "cell_type": "code",
   "execution_count": 25,
   "metadata": {},
   "outputs": [
    {
     "name": "stdout",
     "output_type": "stream",
     "text": [
      "Train on 9600 samples, validate on 2400 samples\n",
      "Epoch 1/20\n",
      "9600/9600 [==============================] - 1s 148us/sample - loss: 0.2199 - accuracy: 0.9447 - val_loss: 0.0780 - val_accuracy: 0.9908\n",
      "Epoch 2/20\n",
      "9600/9600 [==============================] - 1s 74us/sample - loss: 0.0497 - accuracy: 0.9948 - val_loss: 0.0392 - val_accuracy: 0.9937\n",
      "Epoch 3/20\n",
      "9600/9600 [==============================] - 1s 77us/sample - loss: 0.0276 - accuracy: 0.9964 - val_loss: 0.0267 - val_accuracy: 0.9950\n",
      "Epoch 4/20\n",
      "9600/9600 [==============================] - 1s 82us/sample - loss: 0.0191 - accuracy: 0.9972 - val_loss: 0.0208 - val_accuracy: 0.9967\n",
      "Epoch 5/20\n",
      "9600/9600 [==============================] - 1s 77us/sample - loss: 0.0146 - accuracy: 0.9974 - val_loss: 0.0172 - val_accuracy: 0.9971\n",
      "Epoch 6/20\n",
      "9600/9600 [==============================] - 1s 78us/sample - loss: 0.0119 - accuracy: 0.9979 - val_loss: 0.0150 - val_accuracy: 0.9975\n",
      "Epoch 7/20\n",
      "9600/9600 [==============================] - 1s 76us/sample - loss: 0.0100 - accuracy: 0.9984 - val_loss: 0.0136 - val_accuracy: 0.9975\n",
      "Epoch 8/20\n",
      "9600/9600 [==============================] - 1s 73us/sample - loss: 0.0087 - accuracy: 0.9989 - val_loss: 0.0124 - val_accuracy: 0.9979\n",
      "Epoch 9/20\n",
      "9600/9600 [==============================] - 1s 76us/sample - loss: 0.0076 - accuracy: 0.9990 - val_loss: 0.0116 - val_accuracy: 0.9979\n",
      "Epoch 10/20\n",
      "9600/9600 [==============================] - 1s 117us/sample - loss: 0.0068 - accuracy: 0.9990 - val_loss: 0.0109 - val_accuracy: 0.9979\n",
      "Epoch 11/20\n",
      "9600/9600 [==============================] - 1s 142us/sample - loss: 0.0062 - accuracy: 0.9990 - val_loss: 0.0105 - val_accuracy: 0.9979\n",
      "Epoch 12/20\n",
      "9600/9600 [==============================] - 1s 84us/sample - loss: 0.0057 - accuracy: 0.9991 - val_loss: 0.0099 - val_accuracy: 0.9979\n",
      "Epoch 13/20\n",
      "9600/9600 [==============================] - 1s 79us/sample - loss: 0.0052 - accuracy: 0.9992 - val_loss: 0.0095 - val_accuracy: 0.9979\n",
      "Epoch 14/20\n",
      "9600/9600 [==============================] - 1s 76us/sample - loss: 0.0048 - accuracy: 0.9992 - val_loss: 0.0092 - val_accuracy: 0.9979\n",
      "Epoch 15/20\n",
      "9600/9600 [==============================] - 1s 75us/sample - loss: 0.0045 - accuracy: 0.9992 - val_loss: 0.0089 - val_accuracy: 0.9983\n",
      "Epoch 16/20\n",
      "9600/9600 [==============================] - 1s 75us/sample - loss: 0.0042 - accuracy: 0.9992 - val_loss: 0.0087 - val_accuracy: 0.9983\n",
      "Epoch 17/20\n",
      "9600/9600 [==============================] - 1s 75us/sample - loss: 0.0040 - accuracy: 0.9993 - val_loss: 0.0085 - val_accuracy: 0.9983\n",
      "Epoch 18/20\n",
      "9600/9600 [==============================] - 1s 77us/sample - loss: 0.0037 - accuracy: 0.9993 - val_loss: 0.0085 - val_accuracy: 0.9983\n",
      "Epoch 19/20\n",
      "9600/9600 [==============================] - 1s 78us/sample - loss: 0.0035 - accuracy: 0.9993 - val_loss: 0.0082 - val_accuracy: 0.9983\n",
      "Epoch 20/20\n",
      "9600/9600 [==============================] - 1s 75us/sample - loss: 0.0033 - accuracy: 0.9993 - val_loss: 0.0080 - val_accuracy: 0.9983\n"
     ]
    }
   ],
   "source": [
    "history_B=model_B.fit(X_train_B,Y_train_B,epochs=20,validation_split=0.2)"
   ]
  },
  {
   "cell_type": "markdown",
   "metadata": {},
   "source": [
    "**Model_B give us 99% accuracy bcz model_B is small**<br>**For save our time we use Model_A to predict Model_B**"
   ]
  },
  {
   "cell_type": "code",
   "execution_count": 26,
   "metadata": {},
   "outputs": [],
   "source": [
    "#load model_A\n",
    "model_A_final = keras.models.load_model(\"my_model_A.h5\")\n"
   ]
  },
  {
   "cell_type": "code",
   "execution_count": 27,
   "metadata": {},
   "outputs": [],
   "source": [
    "model_A_clone = keras.models.clone_model(model_A_final)\n",
    "model_A_clone.set_weights(model_A_final.get_weights())"
   ]
  },
  {
   "cell_type": "code",
   "execution_count": 28,
   "metadata": {},
   "outputs": [],
   "source": [
    "#make new model with help of model B on A\n",
    "model_B_on_A = keras.models.Sequential(model_A_final.layers[:-1])\n",
    "model_B_on_A.add(keras.layers.Dense(1,activation=\"sigmoid\"))"
   ]
  },
  {
   "cell_type": "code",
   "execution_count": 29,
   "metadata": {},
   "outputs": [],
   "source": [
    "# first freeze the reused layers \n",
    "for layer in model_B_on_A.layers[:-1]:\n",
    "    layer.trainable = False\n",
    "\n",
    "model_B_on_A.compile(loss=\"binary_crossentropy\",\n",
    "                     optimizer=keras.optimizers.SGD(lr=1e-3),\n",
    "                     metrics=[\"accuracy\"])"
   ]
  },
  {
   "cell_type": "code",
   "execution_count": 30,
   "metadata": {},
   "outputs": [
    {
     "name": "stdout",
     "output_type": "stream",
     "text": [
      "Model: \"sequential_2\"\n",
      "_________________________________________________________________\n",
      "Layer (type)                 Output Shape              Param #   \n",
      "=================================================================\n",
      "flatten (Flatten)            (None, 784)               0         \n",
      "_________________________________________________________________\n",
      "dense (Dense)                (None, 300)               235500    \n",
      "_________________________________________________________________\n",
      "dense_1 (Dense)              (None, 100)               30100     \n",
      "_________________________________________________________________\n",
      "dense_2 (Dense)              (None, 50)                5050      \n",
      "_________________________________________________________________\n",
      "dense_3 (Dense)              (None, 50)                2550      \n",
      "_________________________________________________________________\n",
      "dense_4 (Dense)              (None, 50)                2550      \n",
      "_________________________________________________________________\n",
      "dense_12 (Dense)             (None, 1)                 51        \n",
      "=================================================================\n",
      "Total params: 275,801\n",
      "Trainable params: 51\n",
      "Non-trainable params: 275,750\n",
      "_________________________________________________________________\n"
     ]
    }
   ],
   "source": [
    "model_B_on_A.summary()"
   ]
  },
  {
   "cell_type": "code",
   "execution_count": 31,
   "metadata": {},
   "outputs": [
    {
     "name": "stdout",
     "output_type": "stream",
     "text": [
      "Train on 9600 samples, validate on 2400 samples\n",
      "Epoch 1/4\n",
      "9600/9600 [==============================] - 1s 122us/sample - loss: 0.2160 - accuracy: 0.9916 - val_loss: 0.1381 - val_accuracy: 0.9962\n",
      "Epoch 2/4\n",
      "9600/9600 [==============================] - 1s 116us/sample - loss: 0.1034 - accuracy: 0.9977 - val_loss: 0.0859 - val_accuracy: 0.9975\n",
      "Epoch 3/4\n",
      "9600/9600 [==============================] - 1s 96us/sample - loss: 0.0693 - accuracy: 0.9980 - val_loss: 0.0635 - val_accuracy: 0.9975\n",
      "Epoch 4/4\n",
      "9600/9600 [==============================] - 1s 106us/sample - loss: 0.0528 - accuracy: 0.9982 - val_loss: 0.0512 - val_accuracy: 0.9979\n"
     ]
    }
   ],
   "source": [
    "history_1=model_B_on_A.fit(X_train_B,Y_train_B, epochs=4,\n",
    "                          validation_split=0.2)"
   ]
  },
  {
   "cell_type": "code",
   "execution_count": 32,
   "metadata": {},
   "outputs": [
    {
     "name": "stdout",
     "output_type": "stream",
     "text": [
      "Train on 9600 samples, validate on 2400 samples\n",
      "Epoch 1/16\n",
      "9600/9600 [==============================] - 1s 127us/sample - loss: 0.0302 - accuracy: 0.9983 - val_loss: 0.0242 - val_accuracy: 0.9975\n",
      "Epoch 2/16\n",
      "9600/9600 [==============================] - 1s 111us/sample - loss: 0.0167 - accuracy: 0.9984 - val_loss: 0.0172 - val_accuracy: 0.9979\n",
      "Epoch 3/16\n",
      "9600/9600 [==============================] - 1s 82us/sample - loss: 0.0120 - accuracy: 0.9985 - val_loss: 0.0141 - val_accuracy: 0.9979\n",
      "Epoch 4/16\n",
      "9600/9600 [==============================] - 1s 89us/sample - loss: 0.0096 - accuracy: 0.9985 - val_loss: 0.0122 - val_accuracy: 0.9979\n",
      "Epoch 5/16\n",
      "9600/9600 [==============================] - 1s 71us/sample - loss: 0.0080 - accuracy: 0.9990 - val_loss: 0.0110 - val_accuracy: 0.9979\n",
      "Epoch 6/16\n",
      "9600/9600 [==============================] - 1s 73us/sample - loss: 0.0070 - accuracy: 0.9991 - val_loss: 0.0101 - val_accuracy: 0.9979\n",
      "Epoch 7/16\n",
      "9600/9600 [==============================] - 1s 71us/sample - loss: 0.0062 - accuracy: 0.9991 - val_loss: 0.0095 - val_accuracy: 0.9979\n",
      "Epoch 8/16\n",
      "9600/9600 [==============================] - 1s 77us/sample - loss: 0.0056 - accuracy: 0.9992 - val_loss: 0.0090 - val_accuracy: 0.9979\n",
      "Epoch 9/16\n",
      "9600/9600 [==============================] - 1s 78us/sample - loss: 0.0051 - accuracy: 0.9992 - val_loss: 0.0086 - val_accuracy: 0.9979\n",
      "Epoch 10/16\n",
      "9600/9600 [==============================] - 1s 79us/sample - loss: 0.0047 - accuracy: 0.9992 - val_loss: 0.0083 - val_accuracy: 0.9979\n",
      "Epoch 11/16\n",
      "9600/9600 [==============================] - 1s 78us/sample - loss: 0.0044 - accuracy: 0.9992 - val_loss: 0.0080 - val_accuracy: 0.9979\n",
      "Epoch 12/16\n",
      "9600/9600 [==============================] - 1s 73us/sample - loss: 0.0041 - accuracy: 0.9993 - val_loss: 0.0078 - val_accuracy: 0.9979\n",
      "Epoch 13/16\n",
      "9600/9600 [==============================] - 1s 77us/sample - loss: 0.0039 - accuracy: 0.9993 - val_loss: 0.0076 - val_accuracy: 0.9979\n",
      "Epoch 14/16\n",
      "9600/9600 [==============================] - 1s 75us/sample - loss: 0.0037 - accuracy: 0.9994 - val_loss: 0.0074 - val_accuracy: 0.9979\n",
      "Epoch 15/16\n",
      "9600/9600 [==============================] - 1s 76us/sample - loss: 0.0035 - accuracy: 0.9995 - val_loss: 0.0073 - val_accuracy: 0.9979\n",
      "Epoch 16/16\n",
      "9600/9600 [==============================] - 1s 75us/sample - loss: 0.0033 - accuracy: 0.9995 - val_loss: 0.0071 - val_accuracy: 0.9979\n"
     ]
    }
   ],
   "source": [
    "#unfreeze the reused layers\n",
    "for layer in model_B_on_A.layers[:-1]:\n",
    "    layer.trainable = True\n",
    "\n",
    "model_B_on_A.compile(loss=\"binary_crossentropy\",\n",
    "                     optimizer=keras.optimizers.SGD(lr=1e-3),\n",
    "                     metrics=[\"accuracy\"])\n",
    "history_2 = model_B_on_A.fit(X_train_B, Y_train_B, epochs=16,\n",
    "                           validation_split=0.2)"
   ]
  },
  {
   "cell_type": "markdown",
   "metadata": {},
   "source": [
    "So, what's the final verdict?"
   ]
  },
  {
   "cell_type": "code",
   "execution_count": 33,
   "metadata": {},
   "outputs": [
    {
     "name": "stdout",
     "output_type": "stream",
     "text": [
      "2000/2000 [==============================] - 0s 90us/sample - loss: 0.0029 - accuracy: 1.0000\n"
     ]
    },
    {
     "data": {
      "text/plain": [
       "[0.0029002437544986604, 1.0]"
      ]
     },
     "execution_count": 33,
     "metadata": {},
     "output_type": "execute_result"
    }
   ],
   "source": [
    "model_B.evaluate(X_test_B, Y_test_B)"
   ]
  },
  {
   "cell_type": "code",
   "execution_count": 34,
   "metadata": {},
   "outputs": [
    {
     "name": "stdout",
     "output_type": "stream",
     "text": [
      "2000/2000 [==============================] - 0s 82us/sample - loss: 0.0033 - accuracy: 0.9995\n"
     ]
    },
    {
     "data": {
      "text/plain": [
       "[0.0033477844186127186, 0.9995]"
      ]
     },
     "execution_count": 34,
     "metadata": {},
     "output_type": "execute_result"
    }
   ],
   "source": [
    "model_B_on_A.evaluate(X_test_B, Y_test_B)"
   ]
  },
  {
   "cell_type": "markdown",
   "metadata": {},
   "source": [
    "Great! We got quite a bit of transfer: the error rate dropped by a factor of 4!"
   ]
  },
  {
   "cell_type": "code",
   "execution_count": 35,
   "metadata": {},
   "outputs": [
    {
     "data": {
      "text/plain": [
       "1980.0000000001125"
      ]
     },
     "execution_count": 35,
     "metadata": {},
     "output_type": "execute_result"
    }
   ],
   "source": [
    "(100 - 1.00) / (100 - 99.95)"
   ]
  },
  {
   "cell_type": "code",
   "execution_count": null,
   "metadata": {},
   "outputs": [],
   "source": []
  }
 ],
 "metadata": {
  "kernelspec": {
   "display_name": "Python 3",
   "language": "python",
   "name": "python3"
  },
  "language_info": {
   "codemirror_mode": {
    "name": "ipython",
    "version": 3
   },
   "file_extension": ".py",
   "mimetype": "text/x-python",
   "name": "python",
   "nbconvert_exporter": "python",
   "pygments_lexer": "ipython3",
   "version": "3.7.7"
  }
 },
 "nbformat": 4,
 "nbformat_minor": 4
}
