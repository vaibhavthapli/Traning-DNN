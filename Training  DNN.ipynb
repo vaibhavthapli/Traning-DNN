{
 "cells": [
  {
   "cell_type": "markdown",
   "metadata": {},
   "source": [
    "**First we built our basic model with Relu activation function.**"
   ]
  },
  {
   "cell_type": "code",
   "execution_count": 1,
   "metadata": {},
   "outputs": [],
   "source": [
    "import pandas as pd\n",
    "import numpy as np\n",
    "import tensorflow as tf\n",
    "from tensorflow import keras\n",
    "from tensorflow.keras import layers\n",
    "import matplotlib.pyplot as plt\n",
    "import seaborn as sns"
   ]
  },
  {
   "cell_type": "code",
   "execution_count": 2,
   "metadata": {},
   "outputs": [],
   "source": [
    "# load data\n",
    "fashion_mnist = keras.datasets.fashion_mnist\n",
    "(X_train, Y_train), (X_test, Y_test) = fashion_mnist.load_data()"
   ]
  },
  {
   "cell_type": "code",
   "execution_count": 3,
   "metadata": {},
   "outputs": [
    {
     "data": {
      "text/plain": [
       "(60000, 28, 28)"
      ]
     },
     "execution_count": 3,
     "metadata": {},
     "output_type": "execute_result"
    }
   ],
   "source": [
    "X_train.shape"
   ]
  },
  {
   "cell_type": "code",
   "execution_count": 4,
   "metadata": {},
   "outputs": [
    {
     "data": {
      "image/png": "[encoded data removed]",
      "text/plain": [
       "<Figure size 432x288 with 1 Axes>"
      ]
     },
     "metadata": {
      "needs_background": "light"
     },
     "output_type": "display_data"
    }
   ],
   "source": [
    "plt.imshow(X_train[1], cmap = plt.cm.binary) # (use cmap for remove extra color)\n",
    "plt.show()"
   ]
  },
  {
   "cell_type": "code",
   "execution_count": 5,
   "metadata": {},
   "outputs": [],
   "source": [
    "class_names = [\"T-shirt/top\", \"Trouser\", \"Pullover\", \"Dress\", \"Coat\",\n",
    "               \"Sandal\", \"Shirt\", \"Sneaker\", \"Bag\", \"Ankle boot\"]"
   ]
  },
  {
   "cell_type": "code",
   "execution_count": 6,
   "metadata": {},
   "outputs": [],
   "source": [
    "X_train = tf.keras.utils.normalize(X_train,axis=1)\n",
    "X_test = tf.keras.utils.normalize(X_test,axis=1)"
   ]
  },
  {
   "cell_type": "code",
   "execution_count": 7,
   "metadata": {},
   "outputs": [
    {
     "data": {
      "text/plain": [
       "'Ankle boot'"
      ]
     },
     "execution_count": 7,
     "metadata": {},
     "output_type": "execute_result"
    }
   ],
   "source": [
    "class_names[Y_train[0]]"
   ]
  },
  {
   "cell_type": "code",
   "execution_count": 8,
   "metadata": {},
   "outputs": [
    {
     "data": {
      "image/png": "[encoded data removed]",
      "text/plain": [
       "<Figure size 432x288 with 1 Axes>"
      ]
     },
     "metadata": {
      "needs_background": "light"
     },
     "output_type": "display_data"
    }
   ],
   "source": [
    "plt.imshow(X_train[1], cmap = plt.cm.binary) # (use cmap for remove extra color)\n",
    "plt.show()"
   ]
  },
  {
   "cell_type": "code",
   "execution_count": 9,
   "metadata": {},
   "outputs": [],
   "source": [
    "keras.backend.clear_session()\n",
    "np.random.seed(42)\n",
    "tf.random.set_seed(42)"
   ]
  },
  {
   "cell_type": "code",
   "execution_count": 10,
   "metadata": {},
   "outputs": [],
   "source": [
    "# model\n",
    "model = keras.models.Sequential()\n",
    "model.add(keras.layers.Flatten(input_shape=[28,28]))\n",
    "model.add(keras.layers.Dense(300,activation=\"relu\"))\n",
    "model.add(keras.layers.Dense(100,activation=\"relu\"))\n",
    "model.add(keras.layers.Dense(10,activation = \"softmax\"))\n"
   ]
  },
  {
   "cell_type": "code",
   "execution_count": 11,
   "metadata": {},
   "outputs": [
    {
     "name": "stdout",
     "output_type": "stream",
     "text": [
      "Model: \"sequential\"\n",
      "_________________________________________________________________\n",
      "Layer (type)                 Output Shape              Param #   \n",
      "=================================================================\n",
      "flatten (Flatten)            (None, 784)               0         \n",
      "_________________________________________________________________\n",
      "dense (Dense)                (None, 300)               235500    \n",
      "_________________________________________________________________\n",
      "dense_1 (Dense)              (None, 100)               30100     \n",
      "_________________________________________________________________\n",
      "dense_2 (Dense)              (None, 10)                1010      \n",
      "=================================================================\n",
      "Total params: 266,610\n",
      "Trainable params: 266,610\n",
      "Non-trainable params: 0\n",
      "_________________________________________________________________\n"
     ]
    }
   ],
   "source": [
    "#summary\n",
    "model.summary()"
   ]
  },
  {
   "cell_type": "code",
   "execution_count": 12,
   "metadata": {},
   "outputs": [],
   "source": [
    "#complie\n",
    "model.compile(loss=\"sparse_categorical_crossentropy\",optimizer=keras.optimizers.SGD(lr=1e-3), metrics = [\"accuracy\"])"
   ]
  },
  {
   "cell_type": "code",
   "execution_count": 13,
   "metadata": {},
   "outputs": [
    {
     "name": "stdout",
     "output_type": "stream",
     "text": [
      "Train on 48000 samples, validate on 12000 samples\n",
      "Epoch 1/40\n",
      "48000/48000 [==============================] - 6s 131us/sample - loss: 2.1289 - accuracy: 0.3715 - val_loss: 1.9213 - val_accuracy: 0.5441\n",
      "Epoch 2/40\n",
      "48000/48000 [==============================] - 3s 65us/sample - loss: 1.6857 - accuracy: 0.5980 - val_loss: 1.4577 - val_accuracy: 0.6422\n",
      "Epoch 3/40\n",
      "48000/48000 [==============================] - 3s 58us/sample - loss: 1.2873 - accuracy: 0.6615 - val_loss: 1.1393 - val_accuracy: 0.6845\n",
      "Epoch 4/40\n",
      "48000/48000 [==============================] - 3s 59us/sample - loss: 1.0423 - accuracy: 0.6895 - val_loss: 0.9540 - val_accuracy: 0.7057\n",
      "Epoch 5/40\n",
      "48000/48000 [==============================] - 5s 109us/sample - loss: 0.9021 - accuracy: 0.7110 - val_loss: 0.8474 - val_accuracy: 0.7243\n",
      "Epoch 6/40\n",
      "48000/48000 [==============================] - 4s 89us/sample - loss: 0.8171 - accuracy: 0.7277 - val_loss: 0.7791 - val_accuracy: 0.7390\n",
      "Epoch 7/40\n",
      "48000/48000 [==============================] - 4s 93us/sample - loss: 0.7592 - accuracy: 0.7423 - val_loss: 0.7295 - val_accuracy: 0.7517\n",
      "Epoch 8/40\n",
      "48000/48000 [==============================] - 3s 71us/sample - loss: 0.7166 - accuracy: 0.7539 - val_loss: 0.6924 - val_accuracy: 0.7603\n",
      "Epoch 9/40\n",
      "48000/48000 [==============================] - 3s 59us/sample - loss: 0.6833 - accuracy: 0.7630 - val_loss: 0.6625 - val_accuracy: 0.7661\n",
      "Epoch 10/40\n",
      "48000/48000 [==============================] - 3s 58us/sample - loss: 0.6565 - accuracy: 0.7715 - val_loss: 0.6387 - val_accuracy: 0.7742\n",
      "Epoch 11/40\n",
      "48000/48000 [==============================] - 3s 58us/sample - loss: 0.6342 - accuracy: 0.7778 - val_loss: 0.6180 - val_accuracy: 0.7812\n",
      "Epoch 12/40\n",
      "48000/48000 [==============================] - 3s 58us/sample - loss: 0.6151 - accuracy: 0.7843 - val_loss: 0.6008 - val_accuracy: 0.7849\n",
      "Epoch 13/40\n",
      "48000/48000 [==============================] - 3s 60us/sample - loss: 0.5988 - accuracy: 0.7887 - val_loss: 0.5862 - val_accuracy: 0.7903\n",
      "Epoch 14/40\n",
      "48000/48000 [==============================] - 3s 59us/sample - loss: 0.5846 - accuracy: 0.7937 - val_loss: 0.5724 - val_accuracy: 0.7955\n",
      "Epoch 15/40\n",
      "48000/48000 [==============================] - 3s 60us/sample - loss: 0.5719 - accuracy: 0.7994 - val_loss: 0.5619 - val_accuracy: 0.7985\n",
      "Epoch 16/40\n",
      "48000/48000 [==============================] - 3s 58us/sample - loss: 0.5609 - accuracy: 0.8029 - val_loss: 0.5515 - val_accuracy: 0.7996\n",
      "Epoch 17/40\n",
      "48000/48000 [==============================] - 3s 58us/sample - loss: 0.5508 - accuracy: 0.8053 - val_loss: 0.5413 - val_accuracy: 0.8062\n",
      "Epoch 18/40\n",
      "48000/48000 [==============================] - 3s 59us/sample - loss: 0.5417 - accuracy: 0.8089 - val_loss: 0.5338 - val_accuracy: 0.8057\n",
      "Epoch 19/40\n",
      "48000/48000 [==============================] - 3s 59us/sample - loss: 0.5336 - accuracy: 0.8110 - val_loss: 0.5259 - val_accuracy: 0.8092\n",
      "Epoch 20/40\n",
      "48000/48000 [==============================] - 3s 59us/sample - loss: 0.5261 - accuracy: 0.8136 - val_loss: 0.5199 - val_accuracy: 0.8089\n",
      "Epoch 21/40\n",
      "48000/48000 [==============================] - 3s 59us/sample - loss: 0.5193 - accuracy: 0.8155 - val_loss: 0.5136 - val_accuracy: 0.8127\n",
      "Epoch 22/40\n",
      "48000/48000 [==============================] - 4s 80us/sample - loss: 0.5129 - accuracy: 0.8180 - val_loss: 0.5070 - val_accuracy: 0.8153\n",
      "Epoch 23/40\n",
      "48000/48000 [==============================] - 4s 74us/sample - loss: 0.5069 - accuracy: 0.8209 - val_loss: 0.5017 - val_accuracy: 0.8152\n",
      "Epoch 24/40\n",
      "48000/48000 [==============================] - 3s 58us/sample - loss: 0.5016 - accuracy: 0.8217 - val_loss: 0.4968 - val_accuracy: 0.8182\n",
      "Epoch 25/40\n",
      "48000/48000 [==============================] - 4s 73us/sample - loss: 0.4966 - accuracy: 0.8241 - val_loss: 0.4917 - val_accuracy: 0.8207\n",
      "Epoch 26/40\n",
      "48000/48000 [==============================] - 3s 71us/sample - loss: 0.4920 - accuracy: 0.8259 - val_loss: 0.4875 - val_accuracy: 0.8229\n",
      "Epoch 27/40\n",
      "48000/48000 [==============================] - 3s 59us/sample - loss: 0.4873 - accuracy: 0.8275 - val_loss: 0.4852 - val_accuracy: 0.8233\n",
      "Epoch 28/40\n",
      "48000/48000 [==============================] - 3s 59us/sample - loss: 0.4831 - accuracy: 0.8292 - val_loss: 0.4799 - val_accuracy: 0.8261\n",
      "Epoch 29/40\n",
      "48000/48000 [==============================] - 3s 58us/sample - loss: 0.4791 - accuracy: 0.8308 - val_loss: 0.4775 - val_accuracy: 0.8253\n",
      "Epoch 30/40\n",
      "48000/48000 [==============================] - 3s 70us/sample - loss: 0.4755 - accuracy: 0.8324 - val_loss: 0.4737 - val_accuracy: 0.8286\n",
      "Epoch 31/40\n",
      "48000/48000 [==============================] - 3s 58us/sample - loss: 0.4718 - accuracy: 0.8330 - val_loss: 0.4716 - val_accuracy: 0.8280\n",
      "Epoch 32/40\n",
      "48000/48000 [==============================] - 3s 62us/sample - loss: 0.4683 - accuracy: 0.8341 - val_loss: 0.4679 - val_accuracy: 0.8297\n",
      "Epoch 33/40\n",
      "48000/48000 [==============================] - 3s 59us/sample - loss: 0.4651 - accuracy: 0.8354 - val_loss: 0.4647 - val_accuracy: 0.8319\n",
      "Epoch 34/40\n",
      "48000/48000 [==============================] - 3s 59us/sample - loss: 0.4618 - accuracy: 0.8361 - val_loss: 0.4627 - val_accuracy: 0.8322\n",
      "Epoch 35/40\n",
      "48000/48000 [==============================] - 3s 59us/sample - loss: 0.4590 - accuracy: 0.8366 - val_loss: 0.4587 - val_accuracy: 0.8354\n",
      "Epoch 36/40\n",
      "48000/48000 [==============================] - 3s 59us/sample - loss: 0.4559 - accuracy: 0.8383 - val_loss: 0.4571 - val_accuracy: 0.8358\n",
      "Epoch 37/40\n",
      "48000/48000 [==============================] - 3s 58us/sample - loss: 0.4530 - accuracy: 0.8395 - val_loss: 0.4556 - val_accuracy: 0.8375\n",
      "Epoch 38/40\n",
      "48000/48000 [==============================] - 3s 59us/sample - loss: 0.4504 - accuracy: 0.8400 - val_loss: 0.4514 - val_accuracy: 0.8372\n",
      "Epoch 39/40\n",
      "48000/48000 [==============================] - 3s 59us/sample - loss: 0.4479 - accuracy: 0.8412 - val_loss: 0.4485 - val_accuracy: 0.8383\n",
      "Epoch 40/40\n",
      "48000/48000 [==============================] - 3s 58us/sample - loss: 0.4453 - accuracy: 0.8427 - val_loss: 0.4474 - val_accuracy: 0.8392\n"
     ]
    }
   ],
   "source": [
    "#fit\n",
    "history=model.fit(X_train,Y_train,epochs = 40, validation_split= 0.2)"
   ]
  },
  {
   "cell_type": "markdown",
   "metadata": {},
   "source": [
    "As we see our accuracy increases with epochs so we need to run more epochs"
   ]
  },
  {
   "cell_type": "markdown",
   "metadata": {},
   "source": [
    "**At 40 epochs it's validation accuracy is 83.92% and still increases if we run more epochs.**"
   ]
  },
  {
   "cell_type": "code",
   "execution_count": 14,
   "metadata": {},
   "outputs": [
    {
     "data": {
      "text/plain": [
       "{'batch_size': 32,\n",
       " 'epochs': 40,\n",
       " 'steps': 1500,\n",
       " 'samples': 48000,\n",
       " 'verbose': 0,\n",
       " 'do_validation': True,\n",
       " 'metrics': ['loss', 'accuracy', 'val_loss', 'val_accuracy']}"
      ]
     },
     "execution_count": 14,
     "metadata": {},
     "output_type": "execute_result"
    }
   ],
   "source": [
    "history.params"
   ]
  },
  {
   "cell_type": "code",
   "execution_count": 15,
   "metadata": {},
   "outputs": [
    {
     "name": "stdout",
     "output_type": "stream",
     "text": [
      "[0, 1, 2, 3, 4, 5, 6, 7, 8, 9, 10, 11, 12, 13, 14, 15, 16, 17, 18, 19, 20, 21, 22, 23, 24, 25, 26, 27, 28, 29, 30, 31, 32, 33, 34, 35, 36, 37, 38, 39]\n"
     ]
    }
   ],
   "source": [
    "print(history.epoch)"
   ]
  },
  {
   "cell_type": "code",
   "execution_count": 16,
   "metadata": {},
   "outputs": [
    {
     "data": {
      "text/plain": [
       "dict_keys(['loss', 'accuracy', 'val_loss', 'val_accuracy'])"
      ]
     },
     "execution_count": 16,
     "metadata": {},
     "output_type": "execute_result"
    }
   ],
   "source": [
    "history.history.keys()"
   ]
  },
  {
   "cell_type": "code",
   "execution_count": 17,
   "metadata": {},
   "outputs": [
    {
     "data": {
      "image/png": "[encoded data removed]",
      "text/plain": [
       "<Figure size 576x360 with 1 Axes>"
      ]
     },
     "metadata": {
      "needs_background": "light"
     },
     "output_type": "display_data"
    }
   ],
   "source": [
    "pd.DataFrame(history.history).plot(figsize=(8, 5))\n",
    "plt.grid(True)\n",
    "plt.gca().set_ylim(0, 1)\n",
    "plt.show()"
   ]
  },
  {
   "cell_type": "code",
   "execution_count": 18,
   "metadata": {},
   "outputs": [
    {
     "name": "stdout",
     "output_type": "stream",
     "text": [
      "10000/10000 [==============================] - 1s 109us/sample - loss: 0.4777 - accuracy: 0.8294\n"
     ]
    },
    {
     "data": {
      "text/plain": [
       "[0.47774217162132265, 0.8294]"
      ]
     },
     "execution_count": 18,
     "metadata": {},
     "output_type": "execute_result"
    }
   ],
   "source": [
    "model.evaluate(X_test, Y_test)"
   ]
  },
  {
   "cell_type": "code",
   "execution_count": 19,
   "metadata": {},
   "outputs": [
    {
     "data": {
      "text/plain": [
       "array([[0.  , 0.  , 0.  , 0.  , 0.  , 0.13, 0.  , 0.24, 0.01, 0.63],\n",
       "       [0.  , 0.  , 0.82, 0.  , 0.04, 0.  , 0.14, 0.  , 0.  , 0.  ],\n",
       "       [0.  , 1.  , 0.  , 0.  , 0.  , 0.  , 0.  , 0.  , 0.  , 0.  ]],\n",
       "      dtype=float32)"
      ]
     },
     "execution_count": 19,
     "metadata": {},
     "output_type": "execute_result"
    }
   ],
   "source": [
    "X_new = X_test[:3]\n",
    "y_proba = model.predict(X_new)\n",
    "y_proba.round(2)"
   ]
  },
  {
   "cell_type": "code",
   "execution_count": 20,
   "metadata": {},
   "outputs": [
    {
     "data": {
      "text/plain": [
       "array([9, 2, 1], dtype=int64)"
      ]
     },
     "execution_count": 20,
     "metadata": {},
     "output_type": "execute_result"
    }
   ],
   "source": [
    "y_pred = model.predict_classes(X_new)\n",
    "y_pred"
   ]
  },
  {
   "cell_type": "code",
   "execution_count": 21,
   "metadata": {},
   "outputs": [
    {
     "data": {
      "text/plain": [
       "array(['Ankle boot', 'Pullover', 'Trouser'], dtype='<U11')"
      ]
     },
     "execution_count": 21,
     "metadata": {},
     "output_type": "execute_result"
    }
   ],
   "source": [
    "np.array(class_names)[y_pred]"
   ]
  },
  {
   "cell_type": "code",
   "execution_count": 22,
   "metadata": {},
   "outputs": [
    {
     "data": {
      "text/plain": [
       "array([9, 2, 1], dtype=uint8)"
      ]
     },
     "execution_count": 22,
     "metadata": {},
     "output_type": "execute_result"
    }
   ],
   "source": [
    "y_new = Y_test[:3]\n",
    "y_new"
   ]
  },
  {
   "cell_type": "code",
   "execution_count": 23,
   "metadata": {},
   "outputs": [
    {
     "data": {
      "image/png": "[encoded data removed]",
      "text/plain": [
       "<Figure size 518.4x172.8 with 3 Axes>"
      ]
     },
     "metadata": {
      "needs_background": "light"
     },
     "output_type": "display_data"
    }
   ],
   "source": [
    "plt.figure(figsize=(7.2, 2.4))\n",
    "for index, image in enumerate(X_new):\n",
    "    plt.subplot(1, 3, index + 1)\n",
    "    plt.imshow(image, cmap=\"binary\", interpolation=\"nearest\")\n",
    "    plt.axis('off')\n",
    "    plt.title(class_names[Y_test[index]], fontsize=12)\n",
    "plt.subplots_adjust(wspace=0.2, hspace=0.5)\n",
    "plt.show()"
   ]
  },
  {
   "cell_type": "markdown",
   "metadata": {},
   "source": [
    "# Training Deep Neural Networks<br>Now we improve our model by adding new features."
   ]
  },
  {
   "cell_type": "markdown",
   "metadata": {},
   "source": [
    "**Initialization**"
   ]
  },
  {
   "cell_type": "markdown",
   "metadata": {},
   "source": [
    "Initizer according to activation function<br>\n",
    "\n",
    "Glorot-- None,tanh,logistic,softmax<br>\n",
    "He-- Relu and variants<br>\n",
    "LeCun-- SELU"
   ]
  },
  {
   "cell_type": "code",
   "execution_count": 24,
   "metadata": {},
   "outputs": [],
   "source": [
    "#like keras.layers.Dense(10, activation = \"relu\", kernel_initializer= \"he_normal\")"
   ]
  },
  {
   "cell_type": "markdown",
   "metadata": {},
   "source": [
    "**There are differnt type of Relu**<br>\n",
    "LeakyRelu(mostly use)<br>\n",
    "PRelu(used in big image data)<br>\n",
    "ELU and SELU"
   ]
  },
  {
   "cell_type": "markdown",
   "metadata": {},
   "source": [
    "**Try LeakyRelu**"
   ]
  },
  {
   "cell_type": "code",
   "execution_count": 25,
   "metadata": {},
   "outputs": [],
   "source": [
    "\n",
    "\n",
    "model2 = keras.models.Sequential([\n",
    "    keras.layers.Flatten(input_shape=[28, 28]),\n",
    "    keras.layers.Dense(300, kernel_initializer=\"he_normal\"),\n",
    "    keras.layers.LeakyReLU(alpha=0.2),\n",
    "    keras.layers.Dense(100, kernel_initializer=\"he_normal\"),\n",
    "    keras.layers.LeakyReLU(alpha=0.2),\n",
    "    keras.layers.Dense(10, activation=\"softmax\")\n",
    "])"
   ]
  },
  {
   "cell_type": "code",
   "execution_count": 26,
   "metadata": {},
   "outputs": [
    {
     "name": "stdout",
     "output_type": "stream",
     "text": [
      "Model: \"sequential_1\"\n",
      "_________________________________________________________________\n",
      "Layer (type)                 Output Shape              Param #   \n",
      "=================================================================\n",
      "flatten_1 (Flatten)          (None, 784)               0         \n",
      "_________________________________________________________________\n",
      "dense_3 (Dense)              (None, 300)               235500    \n",
      "_________________________________________________________________\n",
      "leaky_re_lu (LeakyReLU)      (None, 300)               0         \n",
      "_________________________________________________________________\n",
      "dense_4 (Dense)              (None, 100)               30100     \n",
      "_________________________________________________________________\n",
      "leaky_re_lu_1 (LeakyReLU)    (None, 100)               0         \n",
      "_________________________________________________________________\n",
      "dense_5 (Dense)              (None, 10)                1010      \n",
      "=================================================================\n",
      "Total params: 266,610\n",
      "Trainable params: 266,610\n",
      "Non-trainable params: 0\n",
      "_________________________________________________________________\n"
     ]
    }
   ],
   "source": [
    "#summary\n",
    "model2.summary()"
   ]
  },
  {
   "cell_type": "code",
   "execution_count": 27,
   "metadata": {},
   "outputs": [],
   "source": [
    "#complie\n",
    "model2.compile(loss=\"sparse_categorical_crossentropy\",optimizer= keras.optimizers.SGD(lr=1e-3), metrics = [\"accuracy\"])"
   ]
  },
  {
   "cell_type": "code",
   "execution_count": 66,
   "metadata": {},
   "outputs": [
    {
     "name": "stdout",
     "output_type": "stream",
     "text": [
      "Train on 48000 samples, validate on 12000 samples\n",
      "Epoch 1/40\n",
      "48000/48000 [==============================] - 3s 68us/sample - loss: 0.4455 - accuracy: 0.8408 - val_loss: 0.4474 - val_accuracy: 0.8363\n",
      "Epoch 2/40\n",
      "48000/48000 [==============================] - 3s 62us/sample - loss: 0.4434 - accuracy: 0.8421 - val_loss: 0.4448 - val_accuracy: 0.8388\n",
      "Epoch 3/40\n",
      "48000/48000 [==============================] - 3s 71us/sample - loss: 0.4413 - accuracy: 0.8426 - val_loss: 0.4433 - val_accuracy: 0.8389\n",
      "Epoch 4/40\n",
      "48000/48000 [==============================] - 3s 72us/sample - loss: 0.4390 - accuracy: 0.8434 - val_loss: 0.4413 - val_accuracy: 0.8403\n",
      "Epoch 5/40\n",
      "48000/48000 [==============================] - 3s 65us/sample - loss: 0.4374 - accuracy: 0.8443 - val_loss: 0.4390 - val_accuracy: 0.8408\n",
      "Epoch 6/40\n",
      "48000/48000 [==============================] - 3s 64us/sample - loss: 0.4353 - accuracy: 0.8452 - val_loss: 0.4377 - val_accuracy: 0.8405\n",
      "Epoch 7/40\n",
      "48000/48000 [==============================] - 4s 74us/sample - loss: 0.4334 - accuracy: 0.8460 - val_loss: 0.4365 - val_accuracy: 0.8407\n",
      "Epoch 8/40\n",
      "48000/48000 [==============================] - 3s 68us/sample - loss: 0.4317 - accuracy: 0.8459 - val_loss: 0.4349 - val_accuracy: 0.8428\n",
      "Epoch 9/40\n",
      "48000/48000 [==============================] - 4s 75us/sample - loss: 0.4297 - accuracy: 0.8466 - val_loss: 0.4334 - val_accuracy: 0.8419\n",
      "Epoch 10/40\n",
      "48000/48000 [==============================] - 3s 61us/sample - loss: 0.4280 - accuracy: 0.8479 - val_loss: 0.4313 - val_accuracy: 0.8433\n",
      "Epoch 11/40\n",
      "48000/48000 [==============================] - 3s 68us/sample - loss: 0.4263 - accuracy: 0.8479 - val_loss: 0.4301 - val_accuracy: 0.8438\n",
      "Epoch 12/40\n",
      "48000/48000 [==============================] - 3s 60us/sample - loss: 0.4245 - accuracy: 0.8493 - val_loss: 0.4292 - val_accuracy: 0.8458\n",
      "Epoch 13/40\n",
      "48000/48000 [==============================] - 3s 58us/sample - loss: 0.4229 - accuracy: 0.8495 - val_loss: 0.4284 - val_accuracy: 0.8451\n",
      "Epoch 14/40\n",
      "48000/48000 [==============================] - 3s 63us/sample - loss: 0.4214 - accuracy: 0.8499 - val_loss: 0.4261 - val_accuracy: 0.8453\n",
      "Epoch 15/40\n",
      "48000/48000 [==============================] - 3s 62us/sample - loss: 0.4197 - accuracy: 0.8503 - val_loss: 0.4258 - val_accuracy: 0.8448\n",
      "Epoch 16/40\n",
      "48000/48000 [==============================] - 3s 63us/sample - loss: 0.4184 - accuracy: 0.8512 - val_loss: 0.4240 - val_accuracy: 0.8465\n",
      "Epoch 17/40\n",
      "48000/48000 [==============================] - 3s 59us/sample - loss: 0.4167 - accuracy: 0.8520 - val_loss: 0.4222 - val_accuracy: 0.8467\n",
      "Epoch 18/40\n",
      "48000/48000 [==============================] - 3s 64us/sample - loss: 0.4153 - accuracy: 0.8521 - val_loss: 0.4216 - val_accuracy: 0.8463\n",
      "Epoch 19/40\n",
      "48000/48000 [==============================] - 3s 70us/sample - loss: 0.4140 - accuracy: 0.8528 - val_loss: 0.4195 - val_accuracy: 0.8477\n",
      "Epoch 20/40\n",
      "48000/48000 [==============================] - 3s 63us/sample - loss: 0.4125 - accuracy: 0.8535 - val_loss: 0.4191 - val_accuracy: 0.8479\n",
      "Epoch 21/40\n",
      "48000/48000 [==============================] - 3s 62us/sample - loss: 0.4112 - accuracy: 0.8538 - val_loss: 0.4177 - val_accuracy: 0.8487\n",
      "Epoch 22/40\n",
      "48000/48000 [==============================] - 3s 60us/sample - loss: 0.4098 - accuracy: 0.8542 - val_loss: 0.4162 - val_accuracy: 0.8485\n",
      "Epoch 23/40\n",
      "48000/48000 [==============================] - 3s 61us/sample - loss: 0.4083 - accuracy: 0.8550 - val_loss: 0.4155 - val_accuracy: 0.8486\n",
      "Epoch 24/40\n",
      "48000/48000 [==============================] - 3s 61us/sample - loss: 0.4071 - accuracy: 0.8553 - val_loss: 0.4140 - val_accuracy: 0.8492\n",
      "Epoch 25/40\n",
      "48000/48000 [==============================] - 3s 67us/sample - loss: 0.4059 - accuracy: 0.8558 - val_loss: 0.4126 - val_accuracy: 0.8511\n",
      "Epoch 26/40\n",
      "48000/48000 [==============================] - 3s 64us/sample - loss: 0.4048 - accuracy: 0.8563 - val_loss: 0.4117 - val_accuracy: 0.8505\n",
      "Epoch 27/40\n",
      "48000/48000 [==============================] - 4s 75us/sample - loss: 0.4033 - accuracy: 0.8566 - val_loss: 0.4136 - val_accuracy: 0.8499\n",
      "Epoch 28/40\n",
      "48000/48000 [==============================] - 4s 84us/sample - loss: 0.4020 - accuracy: 0.8568 - val_loss: 0.4101 - val_accuracy: 0.8512\n",
      "Epoch 29/40\n",
      "48000/48000 [==============================] - 3s 72us/sample - loss: 0.4008 - accuracy: 0.8574 - val_loss: 0.4101 - val_accuracy: 0.8518\n",
      "Epoch 30/40\n",
      "48000/48000 [==============================] - 3s 67us/sample - loss: 0.3999 - accuracy: 0.8577 - val_loss: 0.4088 - val_accuracy: 0.8525\n",
      "Epoch 31/40\n",
      "48000/48000 [==============================] - 3s 69us/sample - loss: 0.3987 - accuracy: 0.8584 - val_loss: 0.4094 - val_accuracy: 0.8508\n",
      "Epoch 32/40\n",
      "48000/48000 [==============================] - 3s 67us/sample - loss: 0.3974 - accuracy: 0.8576 - val_loss: 0.4073 - val_accuracy: 0.8527\n",
      "Epoch 33/40\n",
      "48000/48000 [==============================] - 3s 64us/sample - loss: 0.3965 - accuracy: 0.8591 - val_loss: 0.4061 - val_accuracy: 0.8533\n",
      "Epoch 34/40\n",
      "48000/48000 [==============================] - 3s 71us/sample - loss: 0.3952 - accuracy: 0.8594 - val_loss: 0.4068 - val_accuracy: 0.8530\n",
      "Epoch 35/40\n",
      "48000/48000 [==============================] - 3s 69us/sample - loss: 0.3943 - accuracy: 0.8591 - val_loss: 0.4039 - val_accuracy: 0.8516\n",
      "Epoch 36/40\n",
      "48000/48000 [==============================] - 4s 75us/sample - loss: 0.3931 - accuracy: 0.8605 - val_loss: 0.4043 - val_accuracy: 0.8526\n",
      "Epoch 37/40\n",
      "48000/48000 [==============================] - 5s 101us/sample - loss: 0.3920 - accuracy: 0.8616 - val_loss: 0.4040 - val_accuracy: 0.8533\n",
      "Epoch 38/40\n",
      "48000/48000 [==============================] - 4s 89us/sample - loss: 0.3910 - accuracy: 0.8610 - val_loss: 0.4020 - val_accuracy: 0.8525\n",
      "Epoch 39/40\n",
      "48000/48000 [==============================] - 4s 82us/sample - loss: 0.3901 - accuracy: 0.8610 - val_loss: 0.4003 - val_accuracy: 0.8542\n",
      "Epoch 40/40\n",
      "48000/48000 [==============================] - 3s 70us/sample - loss: 0.3890 - accuracy: 0.8614 - val_loss: 0.4006 - val_accuracy: 0.8565\n"
     ]
    }
   ],
   "source": [
    "#fit\n",
    "history2=model2.fit(X_train,Y_train,epochs = 40, validation_split= 0.2)"
   ]
  },
  {
   "cell_type": "markdown",
   "metadata": {},
   "source": [
    "**Due to some changes in Activation function and initilazer we achive 85.65%.**"
   ]
  },
  {
   "cell_type": "code",
   "execution_count": 29,
   "metadata": {},
   "outputs": [
    {
     "data": {
      "text/plain": [
       "{'batch_size': 32,\n",
       " 'epochs': 40,\n",
       " 'steps': 1500,\n",
       " 'samples': 48000,\n",
       " 'verbose': 0,\n",
       " 'do_validation': True,\n",
       " 'metrics': ['loss', 'accuracy', 'val_loss', 'val_accuracy']}"
      ]
     },
     "execution_count": 29,
     "metadata": {},
     "output_type": "execute_result"
    }
   ],
   "source": [
    "history2.params"
   ]
  },
  {
   "cell_type": "code",
   "execution_count": 30,
   "metadata": {},
   "outputs": [
    {
     "data": {
      "text/plain": [
       "dict_keys(['loss', 'accuracy', 'val_loss', 'val_accuracy'])"
      ]
     },
     "execution_count": 30,
     "metadata": {},
     "output_type": "execute_result"
    }
   ],
   "source": [
    "history2.history.keys()"
   ]
  },
  {
   "cell_type": "code",
   "execution_count": 31,
   "metadata": {},
   "outputs": [
    {
     "data": {
      "image/png": "[encoded data removed]",
      "text/plain": [
       "<Figure size 576x360 with 1 Axes>"
      ]
     },
     "metadata": {
      "needs_background": "light"
     },
     "output_type": "display_data"
    }
   ],
   "source": [
    "pd.DataFrame(history2.history).plot(figsize=(8, 5))\n",
    "plt.grid(True)\n",
    "plt.gca().set_ylim(0, 1)\n",
    "plt.show()"
   ]
  },
  {
   "cell_type": "code",
   "execution_count": 32,
   "metadata": {},
   "outputs": [
    {
     "name": "stdout",
     "output_type": "stream",
     "text": [
      "10000/10000 [==============================] - 0s 48us/sample - loss: 0.4817 - accuracy: 0.8311\n"
     ]
    },
    {
     "data": {
      "text/plain": [
       "[0.48170896396636964, 0.8311]"
      ]
     },
     "execution_count": 32,
     "metadata": {},
     "output_type": "execute_result"
    }
   ],
   "source": [
    "model2.evaluate(X_test, Y_test)"
   ]
  },
  {
   "cell_type": "code",
   "execution_count": 33,
   "metadata": {},
   "outputs": [
    {
     "data": {
      "text/plain": [
       "array([[0.  , 0.  , 0.  , 0.  , 0.  , 0.11, 0.  , 0.22, 0.  , 0.67],\n",
       "       [0.  , 0.  , 0.86, 0.  , 0.02, 0.  , 0.11, 0.  , 0.  , 0.  ],\n",
       "       [0.  , 1.  , 0.  , 0.  , 0.  , 0.  , 0.  , 0.  , 0.  , 0.  ]],\n",
       "      dtype=float32)"
      ]
     },
     "execution_count": 33,
     "metadata": {},
     "output_type": "execute_result"
    }
   ],
   "source": [
    "X_new2 = X_test[:3]\n",
    "y_proba = model2.predict(X_new2)\n",
    "y_proba.round(2)"
   ]
  },
  {
   "cell_type": "code",
   "execution_count": 34,
   "metadata": {},
   "outputs": [
    {
     "data": {
      "text/plain": [
       "array([9, 2, 1], dtype=int64)"
      ]
     },
     "execution_count": 34,
     "metadata": {},
     "output_type": "execute_result"
    }
   ],
   "source": [
    "y_pred2 = model2.predict_classes(X_new2)\n",
    "y_pred2"
   ]
  },
  {
   "cell_type": "code",
   "execution_count": 35,
   "metadata": {},
   "outputs": [
    {
     "data": {
      "text/plain": [
       "array(['Ankle boot', 'Pullover', 'Trouser'], dtype='<U11')"
      ]
     },
     "execution_count": 35,
     "metadata": {},
     "output_type": "execute_result"
    }
   ],
   "source": [
    "np.array(class_names)[y_pred2]"
   ]
  },
  {
   "cell_type": "code",
   "execution_count": 36,
   "metadata": {},
   "outputs": [
    {
     "data": {
      "text/plain": [
       "array([9, 2, 1], dtype=uint8)"
      ]
     },
     "execution_count": 36,
     "metadata": {},
     "output_type": "execute_result"
    }
   ],
   "source": [
    "y_new = Y_test[:3]\n",
    "y_new"
   ]
  },
  {
   "cell_type": "code",
   "execution_count": 37,
   "metadata": {},
   "outputs": [
    {
     "data": {
      "image/png": "[encoded data removed]",
      "text/plain": [
       "<Figure size 518.4x172.8 with 3 Axes>"
      ]
     },
     "metadata": {
      "needs_background": "light"
     },
     "output_type": "display_data"
    }
   ],
   "source": [
    "plt.figure(figsize=(7.2, 2.4))\n",
    "for index, image in enumerate(X_new2):\n",
    "    plt.subplot(1, 3, index + 1)\n",
    "    plt.imshow(image, cmap=\"binary\", interpolation=\"nearest\")\n",
    "    plt.axis('off')\n",
    "    plt.title(class_names[Y_test[index]], fontsize=12)\n",
    "plt.subplots_adjust(wspace=0.2, hspace=0.5)\n",
    "plt.show()"
   ]
  },
  {
   "cell_type": "markdown",
   "metadata": {},
   "source": [
    "**Try PRelu**"
   ]
  },
  {
   "cell_type": "code",
   "execution_count": 38,
   "metadata": {},
   "outputs": [],
   "source": [
    "#make new model\n",
    " \n",
    "model3= keras.models.Sequential([\n",
    "    keras.layers.Flatten(input_shape=[28,28]),\n",
    "    keras.layers.Dense(300, kernel_initializer= \"he_normal\"),\n",
    "    keras.layers.PReLU(),\n",
    "    keras.layers.Dense(100, kernel_initializer=\"he_normal\"),\n",
    "    keras.layers.PReLU(),\n",
    "    keras.layers.Dense(10, activation=\"softmax\")\n",
    "])"
   ]
  },
  {
   "cell_type": "code",
   "execution_count": 39,
   "metadata": {},
   "outputs": [
    {
     "name": "stdout",
     "output_type": "stream",
     "text": [
      "Model: \"sequential_2\"\n",
      "_________________________________________________________________\n",
      "Layer (type)                 Output Shape              Param #   \n",
      "=================================================================\n",
      "flatten_2 (Flatten)          (None, 784)               0         \n",
      "_________________________________________________________________\n",
      "dense_6 (Dense)              (None, 300)               235500    \n",
      "_________________________________________________________________\n",
      "p_re_lu (PReLU)              (None, 300)               300       \n",
      "_________________________________________________________________\n",
      "dense_7 (Dense)              (None, 100)               30100     \n",
      "_________________________________________________________________\n",
      "p_re_lu_1 (PReLU)            (None, 100)               100       \n",
      "_________________________________________________________________\n",
      "dense_8 (Dense)              (None, 10)                1010      \n",
      "=================================================================\n",
      "Total params: 267,010\n",
      "Trainable params: 267,010\n",
      "Non-trainable params: 0\n",
      "_________________________________________________________________\n"
     ]
    }
   ],
   "source": [
    "model3.summary()"
   ]
  },
  {
   "cell_type": "code",
   "execution_count": 40,
   "metadata": {},
   "outputs": [],
   "source": [
    "model3.compile(loss=\"sparse_categorical_crossentropy\",\n",
    "              optimizer=keras.optimizers.SGD(lr=1e-3),\n",
    "              metrics=[\"accuracy\"])"
   ]
  },
  {
   "cell_type": "code",
   "execution_count": 67,
   "metadata": {},
   "outputs": [
    {
     "name": "stdout",
     "output_type": "stream",
     "text": [
      "Train on 48000 samples, validate on 12000 samples\n",
      "Epoch 1/39\n",
      "48000/48000 [==============================] - 4s 74us/sample - loss: 0.4451 - accuracy: 0.8414 - val_loss: 0.4453 - val_accuracy: 0.8384\n",
      "Epoch 2/39\n",
      "48000/48000 [==============================] - 3s 64us/sample - loss: 0.4429 - accuracy: 0.8419 - val_loss: 0.4428 - val_accuracy: 0.8403\n",
      "Epoch 3/39\n",
      "48000/48000 [==============================] - 3s 68us/sample - loss: 0.4405 - accuracy: 0.8428 - val_loss: 0.4413 - val_accuracy: 0.8402\n",
      "Epoch 4/39\n",
      "48000/48000 [==============================] - 3s 67us/sample - loss: 0.4381 - accuracy: 0.8440 - val_loss: 0.4390 - val_accuracy: 0.8412\n",
      "Epoch 5/39\n",
      "48000/48000 [==============================] - 3s 69us/sample - loss: 0.4363 - accuracy: 0.8449 - val_loss: 0.4368 - val_accuracy: 0.8422\n",
      "Epoch 6/39\n",
      "48000/48000 [==============================] - 3s 71us/sample - loss: 0.4341 - accuracy: 0.8457 - val_loss: 0.4353 - val_accuracy: 0.8435\n",
      "Epoch 7/39\n",
      "48000/48000 [==============================] - 3s 67us/sample - loss: 0.4320 - accuracy: 0.8471 - val_loss: 0.4337 - val_accuracy: 0.8440\n",
      "Epoch 8/39\n",
      "48000/48000 [==============================] - 3s 65us/sample - loss: 0.4301 - accuracy: 0.8468 - val_loss: 0.4323 - val_accuracy: 0.8439\n",
      "Epoch 9/39\n",
      "48000/48000 [==============================] - 3s 64us/sample - loss: 0.4280 - accuracy: 0.8478 - val_loss: 0.4306 - val_accuracy: 0.8434\n",
      "Epoch 10/39\n",
      "48000/48000 [==============================] - 3s 64us/sample - loss: 0.4262 - accuracy: 0.8482 - val_loss: 0.4288 - val_accuracy: 0.8443\n",
      "Epoch 11/39\n",
      "48000/48000 [==============================] - 4s 76us/sample - loss: 0.4243 - accuracy: 0.8496 - val_loss: 0.4270 - val_accuracy: 0.8451\n",
      "Epoch 12/39\n",
      "48000/48000 [==============================] - 4s 75us/sample - loss: 0.4224 - accuracy: 0.8506 - val_loss: 0.4258 - val_accuracy: 0.8447\n",
      "Epoch 13/39\n",
      "48000/48000 [==============================] - 3s 71us/sample - loss: 0.4207 - accuracy: 0.8506 - val_loss: 0.4248 - val_accuracy: 0.8458\n",
      "Epoch 14/39\n",
      "48000/48000 [==============================] - 3s 63us/sample - loss: 0.4190 - accuracy: 0.8508 - val_loss: 0.4226 - val_accuracy: 0.8462\n",
      "Epoch 15/39\n",
      "48000/48000 [==============================] - 3s 64us/sample - loss: 0.4172 - accuracy: 0.8518 - val_loss: 0.4220 - val_accuracy: 0.8472\n",
      "Epoch 16/39\n",
      "48000/48000 [==============================] - 3s 62us/sample - loss: 0.4156 - accuracy: 0.8519 - val_loss: 0.4205 - val_accuracy: 0.8460\n",
      "Epoch 17/39\n",
      "48000/48000 [==============================] - 3s 65us/sample - loss: 0.4139 - accuracy: 0.8528 - val_loss: 0.4185 - val_accuracy: 0.8467\n",
      "Epoch 18/39\n",
      "48000/48000 [==============================] - 3s 68us/sample - loss: 0.4124 - accuracy: 0.8533 - val_loss: 0.4178 - val_accuracy: 0.8473\n",
      "Epoch 19/39\n",
      "48000/48000 [==============================] - 3s 62us/sample - loss: 0.4109 - accuracy: 0.8544 - val_loss: 0.4157 - val_accuracy: 0.8485\n",
      "Epoch 20/39\n",
      "48000/48000 [==============================] - 3s 68us/sample - loss: 0.4092 - accuracy: 0.8547 - val_loss: 0.4152 - val_accuracy: 0.8488\n",
      "Epoch 21/39\n",
      "48000/48000 [==============================] - 3s 68us/sample - loss: 0.4078 - accuracy: 0.8552 - val_loss: 0.4137 - val_accuracy: 0.8496\n",
      "Epoch 22/39\n",
      "48000/48000 [==============================] - 3s 69us/sample - loss: 0.4063 - accuracy: 0.8558 - val_loss: 0.4121 - val_accuracy: 0.8503\n",
      "Epoch 23/39\n",
      "48000/48000 [==============================] - 3s 70us/sample - loss: 0.4046 - accuracy: 0.8559 - val_loss: 0.4114 - val_accuracy: 0.8515\n",
      "Epoch 24/39\n",
      "48000/48000 [==============================] - 3s 72us/sample - loss: 0.4033 - accuracy: 0.8564 - val_loss: 0.4096 - val_accuracy: 0.8517\n",
      "Epoch 25/39\n",
      "48000/48000 [==============================] - 3s 71us/sample - loss: 0.4020 - accuracy: 0.8574 - val_loss: 0.4083 - val_accuracy: 0.8522\n",
      "Epoch 26/39\n",
      "48000/48000 [==============================] - 3s 70us/sample - loss: 0.4007 - accuracy: 0.8580 - val_loss: 0.4072 - val_accuracy: 0.8535\n",
      "Epoch 27/39\n",
      "48000/48000 [==============================] - 3s 65us/sample - loss: 0.3991 - accuracy: 0.8583 - val_loss: 0.4087 - val_accuracy: 0.8515\n",
      "Epoch 28/39\n",
      "48000/48000 [==============================] - 3s 63us/sample - loss: 0.3977 - accuracy: 0.8592 - val_loss: 0.4055 - val_accuracy: 0.8542\n",
      "Epoch 29/39\n",
      "48000/48000 [==============================] - 4s 73us/sample - loss: 0.3963 - accuracy: 0.8593 - val_loss: 0.4055 - val_accuracy: 0.8540\n",
      "Epoch 30/39\n",
      "48000/48000 [==============================] - 3s 68us/sample - loss: 0.3952 - accuracy: 0.8598 - val_loss: 0.4039 - val_accuracy: 0.8553\n",
      "Epoch 31/39\n",
      "48000/48000 [==============================] - 3s 63us/sample - loss: 0.3939 - accuracy: 0.8593 - val_loss: 0.4047 - val_accuracy: 0.8543\n",
      "Epoch 32/39\n",
      "48000/48000 [==============================] - 3s 65us/sample - loss: 0.3925 - accuracy: 0.8608 - val_loss: 0.4022 - val_accuracy: 0.8557\n",
      "Epoch 33/39\n",
      "48000/48000 [==============================] - 3s 67us/sample - loss: 0.3914 - accuracy: 0.8612 - val_loss: 0.4012 - val_accuracy: 0.8566\n",
      "Epoch 34/39\n",
      "48000/48000 [==============================] - 4s 74us/sample - loss: 0.3900 - accuracy: 0.8612 - val_loss: 0.4018 - val_accuracy: 0.8551\n",
      "Epoch 35/39\n",
      "48000/48000 [==============================] - 3s 70us/sample - loss: 0.3889 - accuracy: 0.8618 - val_loss: 0.3989 - val_accuracy: 0.8555\n",
      "Epoch 36/39\n",
      "48000/48000 [==============================] - 3s 65us/sample - loss: 0.3876 - accuracy: 0.8629 - val_loss: 0.3994 - val_accuracy: 0.8567\n",
      "Epoch 37/39\n",
      "48000/48000 [==============================] - 3s 66us/sample - loss: 0.3863 - accuracy: 0.8631 - val_loss: 0.3987 - val_accuracy: 0.8565\n",
      "Epoch 38/39\n",
      "48000/48000 [==============================] - 3s 71us/sample - loss: 0.3852 - accuracy: 0.8641 - val_loss: 0.3966 - val_accuracy: 0.8572\n",
      "Epoch 39/39\n",
      "48000/48000 [==============================] - 3s 69us/sample - loss: 0.3842 - accuracy: 0.8640 - val_loss: 0.3948 - val_accuracy: 0.8572\n"
     ]
    }
   ],
   "source": [
    "history3=model3.fit(X_train,Y_train,epochs = 39, validation_split= 0.2)"
   ]
  },
  {
   "cell_type": "code",
   "execution_count": 42,
   "metadata": {},
   "outputs": [
    {
     "data": {
      "text/plain": [
       "{'batch_size': 32,\n",
       " 'epochs': 39,\n",
       " 'steps': 1500,\n",
       " 'samples': 48000,\n",
       " 'verbose': 0,\n",
       " 'do_validation': True,\n",
       " 'metrics': ['loss', 'accuracy', 'val_loss', 'val_accuracy']}"
      ]
     },
     "execution_count": 42,
     "metadata": {},
     "output_type": "execute_result"
    }
   ],
   "source": [
    "history3.params"
   ]
  },
  {
   "cell_type": "markdown",
   "metadata": {},
   "source": [
    "**Again change activation function model validation accuracy slightly increases 85.72%.**"
   ]
  },
  {
   "cell_type": "code",
   "execution_count": 43,
   "metadata": {},
   "outputs": [
    {
     "data": {
      "text/plain": [
       "dict_keys(['loss', 'accuracy', 'val_loss', 'val_accuracy'])"
      ]
     },
     "execution_count": 43,
     "metadata": {},
     "output_type": "execute_result"
    }
   ],
   "source": [
    "history3.history.keys()"
   ]
  },
  {
   "cell_type": "code",
   "execution_count": 44,
   "metadata": {},
   "outputs": [
    {
     "data": {
      "image/png": "[encoded data removed]",
      "text/plain": [
       "<Figure size 576x360 with 1 Axes>"
      ]
     },
     "metadata": {
      "needs_background": "light"
     },
     "output_type": "display_data"
    }
   ],
   "source": [
    "pd.DataFrame(history3.history).plot(figsize=(8, 5))\n",
    "plt.grid(True)\n",
    "plt.gca().set_ylim(0, 1)\n",
    "plt.show()"
   ]
  },
  {
   "cell_type": "code",
   "execution_count": 45,
   "metadata": {},
   "outputs": [
    {
     "name": "stdout",
     "output_type": "stream",
     "text": [
      "10000/10000 [==============================] - 1s 50us/sample - loss: 0.4790 - accuracy: 0.8317\n"
     ]
    },
    {
     "data": {
      "text/plain": [
       "[0.4790028180599213, 0.8317]"
      ]
     },
     "execution_count": 45,
     "metadata": {},
     "output_type": "execute_result"
    }
   ],
   "source": [
    "model3.evaluate(X_test, Y_test)"
   ]
  },
  {
   "cell_type": "markdown",
   "metadata": {},
   "source": [
    "**Batch Normalization**"
   ]
  },
  {
   "cell_type": "markdown",
   "metadata": {},
   "source": [
    "**Now we have to select the position of Batch Normalization where we use this function (After activation or Before activation).**"
   ]
  },
  {
   "cell_type": "markdown",
   "metadata": {},
   "source": [
    "**After activation **"
   ]
  },
  {
   "cell_type": "code",
   "execution_count": 46,
   "metadata": {},
   "outputs": [],
   "source": [
    "batch_model=keras.models.Sequential([\n",
    "    keras.layers.Flatten(input_shape=[28,28]),\n",
    "    keras.layers.BatchNormalization(),\n",
    "    keras.layers.Dense(300,kernel_initializer= \"he_normal\"),\n",
    "    keras.layers.PReLU(),\n",
    "    keras.layers.BatchNormalization(),\n",
    "    keras.layers.Dense(100,kernel_initializer= \"he_normal\"),\n",
    "    keras.layers.PReLU(),\n",
    "    keras.layers.BatchNormalization(),\n",
    "    keras.layers.Dense(10,activation=\"softmax\")\n",
    "])"
   ]
  },
  {
   "cell_type": "code",
   "execution_count": 47,
   "metadata": {},
   "outputs": [
    {
     "name": "stdout",
     "output_type": "stream",
     "text": [
      "Model: \"sequential_3\"\n",
      "_________________________________________________________________\n",
      "Layer (type)                 Output Shape              Param #   \n",
      "=================================================================\n",
      "flatten_3 (Flatten)          (None, 784)               0         \n",
      "_________________________________________________________________\n",
      "batch_normalization (BatchNo (None, 784)               3136      \n",
      "_________________________________________________________________\n",
      "dense_9 (Dense)              (None, 300)               235500    \n",
      "_________________________________________________________________\n",
      "p_re_lu_2 (PReLU)            (None, 300)               300       \n",
      "_________________________________________________________________\n",
      "batch_normalization_1 (Batch (None, 300)               1200      \n",
      "_________________________________________________________________\n",
      "dense_10 (Dense)             (None, 100)               30100     \n",
      "_________________________________________________________________\n",
      "p_re_lu_3 (PReLU)            (None, 100)               100       \n",
      "_________________________________________________________________\n",
      "batch_normalization_2 (Batch (None, 100)               400       \n",
      "_________________________________________________________________\n",
      "dense_11 (Dense)             (None, 10)                1010      \n",
      "=================================================================\n",
      "Total params: 271,746\n",
      "Trainable params: 269,378\n",
      "Non-trainable params: 2,368\n",
      "_________________________________________________________________\n"
     ]
    }
   ],
   "source": [
    "batch_model.summary()"
   ]
  },
  {
   "cell_type": "code",
   "execution_count": 48,
   "metadata": {},
   "outputs": [
    {
     "data": {
      "text/plain": [
       "[('batch_normalization/gamma:0', True),\n",
       " ('batch_normalization/beta:0', True),\n",
       " ('batch_normalization/moving_mean:0', False),\n",
       " ('batch_normalization/moving_variance:0', False)]"
      ]
     },
     "execution_count": 48,
     "metadata": {},
     "output_type": "execute_result"
    }
   ],
   "source": [
    "[(var.name,var.trainable)for var in batch_model.layers[1].variables]"
   ]
  },
  {
   "cell_type": "code",
   "execution_count": 49,
   "metadata": {},
   "outputs": [
    {
     "data": {
      "text/plain": [
       "[<tf.Operation 'cond/Identity' type=Identity>,\n",
       " <tf.Operation 'cond_1/Identity' type=Identity>]"
      ]
     },
     "execution_count": 49,
     "metadata": {},
     "output_type": "execute_result"
    }
   ],
   "source": [
    "batch_model.layers[1].updates"
   ]
  },
  {
   "cell_type": "code",
   "execution_count": 50,
   "metadata": {},
   "outputs": [],
   "source": [
    "batch_model.compile(loss=\"sparse_categorical_crossentropy\",\n",
    "              optimizer=keras.optimizers.SGD(lr=1e-3,clipvalue=1.0),\n",
    "              metrics=[\"accuracy\"])"
   ]
  },
  {
   "cell_type": "code",
   "execution_count": 51,
   "metadata": {},
   "outputs": [
    {
     "name": "stdout",
     "output_type": "stream",
     "text": [
      "Train on 48000 samples, validate on 12000 samples\n",
      "Epoch 1/39\n",
      "48000/48000 [==============================] - 5s 100us/sample - loss: 0.9488 - accuracy: 0.6826 - val_loss: 0.6321 - val_accuracy: 0.7842\n",
      "Epoch 2/39\n",
      "48000/48000 [==============================] - 4s 82us/sample - loss: 0.6013 - accuracy: 0.7931 - val_loss: 0.5351 - val_accuracy: 0.8122\n",
      "Epoch 3/39\n",
      "48000/48000 [==============================] - 4s 83us/sample - loss: 0.5370 - accuracy: 0.8139 - val_loss: 0.4914 - val_accuracy: 0.8273\n",
      "Epoch 4/39\n",
      "48000/48000 [==============================] - 4s 86us/sample - loss: 0.5027 - accuracy: 0.8234 - val_loss: 0.4660 - val_accuracy: 0.8340\n",
      "Epoch 5/39\n",
      "48000/48000 [==============================] - 4s 86us/sample - loss: 0.4749 - accuracy: 0.8321 - val_loss: 0.4465 - val_accuracy: 0.8415\n",
      "Epoch 6/39\n",
      "48000/48000 [==============================] - 4s 86us/sample - loss: 0.4578 - accuracy: 0.8388 - val_loss: 0.4327 - val_accuracy: 0.8457\n",
      "Epoch 7/39\n",
      "48000/48000 [==============================] - 4s 84us/sample - loss: 0.4396 - accuracy: 0.8449 - val_loss: 0.4215 - val_accuracy: 0.8500\n",
      "Epoch 8/39\n",
      "48000/48000 [==============================] - 4s 81us/sample - loss: 0.4281 - accuracy: 0.8487 - val_loss: 0.4133 - val_accuracy: 0.8524\n",
      "Epoch 9/39\n",
      "48000/48000 [==============================] - 4s 84us/sample - loss: 0.4133 - accuracy: 0.8535 - val_loss: 0.4054 - val_accuracy: 0.8550\n",
      "Epoch 10/39\n",
      "48000/48000 [==============================] - 4s 87us/sample - loss: 0.4065 - accuracy: 0.8555 - val_loss: 0.3994 - val_accuracy: 0.8562\n",
      "Epoch 11/39\n",
      "48000/48000 [==============================] - 4s 86us/sample - loss: 0.3994 - accuracy: 0.8575 - val_loss: 0.3937 - val_accuracy: 0.8568\n",
      "Epoch 12/39\n",
      "48000/48000 [==============================] - 4s 87us/sample - loss: 0.3931 - accuracy: 0.8602 - val_loss: 0.3890 - val_accuracy: 0.8592\n",
      "Epoch 13/39\n",
      "48000/48000 [==============================] - 4s 85us/sample - loss: 0.3835 - accuracy: 0.8650 - val_loss: 0.3839 - val_accuracy: 0.8617\n",
      "Epoch 14/39\n",
      "48000/48000 [==============================] - 4s 81us/sample - loss: 0.3783 - accuracy: 0.8650 - val_loss: 0.3812 - val_accuracy: 0.8623\n",
      "Epoch 15/39\n",
      "48000/48000 [==============================] - 4s 81us/sample - loss: 0.3723 - accuracy: 0.8669 - val_loss: 0.3773 - val_accuracy: 0.8651\n",
      "Epoch 16/39\n",
      "48000/48000 [==============================] - 4s 81us/sample - loss: 0.3659 - accuracy: 0.8706 - val_loss: 0.3738 - val_accuracy: 0.8661\n",
      "Epoch 17/39\n",
      "48000/48000 [==============================] - 4s 84us/sample - loss: 0.3592 - accuracy: 0.8721 - val_loss: 0.3720 - val_accuracy: 0.8671\n",
      "Epoch 18/39\n",
      "48000/48000 [==============================] - 5s 112us/sample - loss: 0.3589 - accuracy: 0.8719 - val_loss: 0.3682 - val_accuracy: 0.8683\n",
      "Epoch 19/39\n",
      "48000/48000 [==============================] - 5s 105us/sample - loss: 0.3519 - accuracy: 0.8735 - val_loss: 0.3661 - val_accuracy: 0.8684\n",
      "Epoch 20/39\n",
      "48000/48000 [==============================] - 5s 99us/sample - loss: 0.3482 - accuracy: 0.8759 - val_loss: 0.3641 - val_accuracy: 0.8689\n",
      "Epoch 21/39\n",
      "48000/48000 [==============================] - 4s 94us/sample - loss: 0.3433 - accuracy: 0.8780 - val_loss: 0.3613 - val_accuracy: 0.8708\n",
      "Epoch 22/39\n",
      "48000/48000 [==============================] - 5s 103us/sample - loss: 0.3367 - accuracy: 0.8798 - val_loss: 0.3583 - val_accuracy: 0.8716\n",
      "Epoch 23/39\n",
      "48000/48000 [==============================] - 5s 107us/sample - loss: 0.3367 - accuracy: 0.8794 - val_loss: 0.3571 - val_accuracy: 0.8725\n",
      "Epoch 24/39\n",
      "48000/48000 [==============================] - 5s 109us/sample - loss: 0.3323 - accuracy: 0.8808 - val_loss: 0.3559 - val_accuracy: 0.8719\n",
      "Epoch 25/39\n",
      "48000/48000 [==============================] - 5s 96us/sample - loss: 0.3262 - accuracy: 0.8835 - val_loss: 0.3541 - val_accuracy: 0.8729\n",
      "Epoch 26/39\n",
      "48000/48000 [==============================] - 4s 91us/sample - loss: 0.3243 - accuracy: 0.8840 - val_loss: 0.3518 - val_accuracy: 0.8727\n",
      "Epoch 27/39\n",
      "48000/48000 [==============================] - 4s 88us/sample - loss: 0.3228 - accuracy: 0.8844 - val_loss: 0.3513 - val_accuracy: 0.8736\n",
      "Epoch 28/39\n",
      "48000/48000 [==============================] - 4s 90us/sample - loss: 0.3193 - accuracy: 0.8861 - val_loss: 0.3502 - val_accuracy: 0.8739\n",
      "Epoch 29/39\n",
      "48000/48000 [==============================] - 4s 92us/sample - loss: 0.3144 - accuracy: 0.8873 - val_loss: 0.3491 - val_accuracy: 0.8740\n",
      "Epoch 30/39\n",
      "48000/48000 [==============================] - 5s 95us/sample - loss: 0.3147 - accuracy: 0.8876 - val_loss: 0.3474 - val_accuracy: 0.8748\n",
      "Epoch 31/39\n",
      "48000/48000 [==============================] - 4s 83us/sample - loss: 0.3102 - accuracy: 0.8878 - val_loss: 0.3456 - val_accuracy: 0.8758\n",
      "Epoch 32/39\n",
      "48000/48000 [==============================] - 4s 88us/sample - loss: 0.3035 - accuracy: 0.8922 - val_loss: 0.3443 - val_accuracy: 0.8759\n",
      "Epoch 33/39\n",
      "48000/48000 [==============================] - 5s 107us/sample - loss: 0.3044 - accuracy: 0.8909 - val_loss: 0.3448 - val_accuracy: 0.8767\n",
      "Epoch 34/39\n",
      "48000/48000 [==============================] - 5s 100us/sample - loss: 0.2988 - accuracy: 0.8935 - val_loss: 0.3441 - val_accuracy: 0.8767\n",
      "Epoch 35/39\n",
      "48000/48000 [==============================] - 4s 90us/sample - loss: 0.2971 - accuracy: 0.8934 - val_loss: 0.3428 - val_accuracy: 0.8784\n",
      "Epoch 36/39\n",
      "48000/48000 [==============================] - 4s 88us/sample - loss: 0.2953 - accuracy: 0.8937 - val_loss: 0.3416 - val_accuracy: 0.8789\n",
      "Epoch 37/39\n",
      "48000/48000 [==============================] - 5s 104us/sample - loss: 0.2920 - accuracy: 0.8954 - val_loss: 0.3403 - val_accuracy: 0.8794\n",
      "Epoch 38/39\n",
      "48000/48000 [==============================] - 4s 90us/sample - loss: 0.2886 - accuracy: 0.8968 - val_loss: 0.3396 - val_accuracy: 0.8783\n",
      "Epoch 39/39\n",
      "48000/48000 [==============================] - 5s 99us/sample - loss: 0.2873 - accuracy: 0.8980 - val_loss: 0.3392 - val_accuracy: 0.8795\n"
     ]
    }
   ],
   "source": [
    "history_batch=batch_model.fit(X_train,Y_train,epochs = 39, validation_split= 0.2)"
   ]
  },
  {
   "cell_type": "code",
   "execution_count": 52,
   "metadata": {},
   "outputs": [
    {
     "data": {
      "text/plain": [
       "{'batch_size': 32,\n",
       " 'epochs': 39,\n",
       " 'steps': 1500,\n",
       " 'samples': 48000,\n",
       " 'verbose': 0,\n",
       " 'do_validation': True,\n",
       " 'metrics': ['loss', 'accuracy', 'val_loss', 'val_accuracy']}"
      ]
     },
     "execution_count": 52,
     "metadata": {},
     "output_type": "execute_result"
    }
   ],
   "source": [
    "history_batch.params"
   ]
  },
  {
   "cell_type": "code",
   "execution_count": 53,
   "metadata": {},
   "outputs": [
    {
     "data": {
      "text/plain": [
       "dict_keys(['loss', 'accuracy', 'val_loss', 'val_accuracy'])"
      ]
     },
     "execution_count": 53,
     "metadata": {},
     "output_type": "execute_result"
    }
   ],
   "source": [
    "history_batch.history.keys()"
   ]
  },
  {
   "cell_type": "code",
   "execution_count": 54,
   "metadata": {},
   "outputs": [
    {
     "data": {
      "image/png": "[encoded data removed]",
      "text/plain": [
       "<Figure size 576x360 with 1 Axes>"
      ]
     },
     "metadata": {
      "needs_background": "light"
     },
     "output_type": "display_data"
    }
   ],
   "source": [
    "pd.DataFrame(history_batch.history).plot(figsize=(8, 5))\n",
    "plt.grid(True)\n",
    "plt.gca().set_ylim(0, 1)\n",
    "plt.show()"
   ]
  },
  {
   "cell_type": "code",
   "execution_count": 55,
   "metadata": {},
   "outputs": [
    {
     "name": "stdout",
     "output_type": "stream",
     "text": [
      "10000/10000 [==============================] - 1s 60us/sample - loss: 0.3587 - accuracy: 0.8693\n"
     ]
    },
    {
     "data": {
      "text/plain": [
       "[0.35870675404071806, 0.8693]"
      ]
     },
     "execution_count": 55,
     "metadata": {},
     "output_type": "execute_result"
    }
   ],
   "source": [
    "batch_model.evaluate(X_test, Y_test)"
   ]
  },
  {
   "cell_type": "markdown",
   "metadata": {},
   "source": [
    "**Before activation**"
   ]
  },
  {
   "cell_type": "code",
   "execution_count": 56,
   "metadata": {},
   "outputs": [],
   "source": [
    "batch_model3 = keras.models.Sequential([\n",
    "    keras.layers.Flatten(input_shape=[28, 28]),\n",
    "    keras.layers.BatchNormalization(),\n",
    "    keras.layers.Dense(300,kernel_initializer=\"he_normal\", use_bias=False),\n",
    "    keras.layers.BatchNormalization(),\n",
    "    keras.layers.PReLU(),\n",
    "    keras.layers.Dense(100,kernel_initializer=\"he_normal\", use_bias=False),\n",
    "    keras.layers.BatchNormalization(),\n",
    "    keras.layers.PReLU(),\n",
    "    keras.layers.Dense(10, activation=\"softmax\")\n",
    "])"
   ]
  },
  {
   "cell_type": "code",
   "execution_count": 57,
   "metadata": {},
   "outputs": [
    {
     "name": "stdout",
     "output_type": "stream",
     "text": [
      "Model: \"sequential_4\"\n",
      "_________________________________________________________________\n",
      "Layer (type)                 Output Shape              Param #   \n",
      "=================================================================\n",
      "flatten_4 (Flatten)          (None, 784)               0         \n",
      "_________________________________________________________________\n",
      "batch_normalization_3 (Batch (None, 784)               3136      \n",
      "_________________________________________________________________\n",
      "dense_12 (Dense)             (None, 300)               235200    \n",
      "_________________________________________________________________\n",
      "batch_normalization_4 (Batch (None, 300)               1200      \n",
      "_________________________________________________________________\n",
      "p_re_lu_4 (PReLU)            (None, 300)               300       \n",
      "_________________________________________________________________\n",
      "dense_13 (Dense)             (None, 100)               30000     \n",
      "_________________________________________________________________\n",
      "batch_normalization_5 (Batch (None, 100)               400       \n",
      "_________________________________________________________________\n",
      "p_re_lu_5 (PReLU)            (None, 100)               100       \n",
      "_________________________________________________________________\n",
      "dense_14 (Dense)             (None, 10)                1010      \n",
      "=================================================================\n",
      "Total params: 271,346\n",
      "Trainable params: 268,978\n",
      "Non-trainable params: 2,368\n",
      "_________________________________________________________________\n"
     ]
    }
   ],
   "source": [
    "batch_model3.summary()"
   ]
  },
  {
   "cell_type": "code",
   "execution_count": 58,
   "metadata": {},
   "outputs": [
    {
     "data": {
      "text/plain": [
       "[('batch_normalization_3/gamma:0', True),\n",
       " ('batch_normalization_3/beta:0', True),\n",
       " ('batch_normalization_3/moving_mean:0', False),\n",
       " ('batch_normalization_3/moving_variance:0', False)]"
      ]
     },
     "execution_count": 58,
     "metadata": {},
     "output_type": "execute_result"
    }
   ],
   "source": [
    "[(var.name,var.trainable)for var in batch_model3.layers[1].variables]"
   ]
  },
  {
   "cell_type": "code",
   "execution_count": 59,
   "metadata": {},
   "outputs": [
    {
     "data": {
      "text/plain": [
       "[<tf.Operation 'cond_2/Identity' type=Identity>,\n",
       " <tf.Operation 'cond_3/Identity' type=Identity>]"
      ]
     },
     "execution_count": 59,
     "metadata": {},
     "output_type": "execute_result"
    }
   ],
   "source": [
    "batch_model3.layers[1].updates"
   ]
  },
  {
   "cell_type": "code",
   "execution_count": 60,
   "metadata": {},
   "outputs": [],
   "source": [
    "batch_model3.compile(loss=\"sparse_categorical_crossentropy\",\n",
    "              optimizer=keras.optimizers.SGD(lr=1e-3,clipvalue=1.0),\n",
    "              metrics=[\"accuracy\"])"
   ]
  },
  {
   "cell_type": "code",
   "execution_count": 61,
   "metadata": {},
   "outputs": [
    {
     "name": "stdout",
     "output_type": "stream",
     "text": [
      "Train on 48000 samples, validate on 12000 samples\n",
      "Epoch 1/39\n",
      "48000/48000 [==============================] - 5s 99us/sample - loss: 1.1231 - accuracy: 0.6381 - val_loss: 0.7373 - val_accuracy: 0.7613\n",
      "Epoch 2/39\n",
      "48000/48000 [==============================] - 4s 83us/sample - loss: 0.7046 - accuracy: 0.7700 - val_loss: 0.6120 - val_accuracy: 0.7952\n",
      "Epoch 3/39\n",
      "48000/48000 [==============================] - 4s 88us/sample - loss: 0.6202 - accuracy: 0.7934 - val_loss: 0.5556 - val_accuracy: 0.8123\n",
      "Epoch 4/39\n",
      "48000/48000 [==============================] - 4s 84us/sample - loss: 0.5776 - accuracy: 0.8037 - val_loss: 0.5202 - val_accuracy: 0.8197\n",
      "Epoch 5/39\n",
      "48000/48000 [==============================] - 4s 85us/sample - loss: 0.5425 - accuracy: 0.8142 - val_loss: 0.4954 - val_accuracy: 0.8255\n",
      "Epoch 6/39\n",
      "48000/48000 [==============================] - 4s 84us/sample - loss: 0.5192 - accuracy: 0.8210 - val_loss: 0.4746 - val_accuracy: 0.8325\n",
      "Epoch 7/39\n",
      "48000/48000 [==============================] - 4s 81us/sample - loss: 0.4988 - accuracy: 0.8275 - val_loss: 0.4597 - val_accuracy: 0.8357\n",
      "Epoch 8/39\n",
      "48000/48000 [==============================] - 4s 90us/sample - loss: 0.4815 - accuracy: 0.8329 - val_loss: 0.4474 - val_accuracy: 0.8399\n",
      "Epoch 9/39\n",
      "48000/48000 [==============================] - 4s 86us/sample - loss: 0.4665 - accuracy: 0.8376 - val_loss: 0.4363 - val_accuracy: 0.8439\n",
      "Epoch 10/39\n",
      "48000/48000 [==============================] - 4s 81us/sample - loss: 0.4566 - accuracy: 0.8400 - val_loss: 0.4269 - val_accuracy: 0.8468\n",
      "Epoch 11/39\n",
      "48000/48000 [==============================] - 4s 80us/sample - loss: 0.4458 - accuracy: 0.8443 - val_loss: 0.4188 - val_accuracy: 0.8503\n",
      "Epoch 12/39\n",
      "48000/48000 [==============================] - 4s 82us/sample - loss: 0.4397 - accuracy: 0.8446 - val_loss: 0.4126 - val_accuracy: 0.8518\n",
      "Epoch 13/39\n",
      "48000/48000 [==============================] - 4s 81us/sample - loss: 0.4289 - accuracy: 0.8500 - val_loss: 0.4058 - val_accuracy: 0.8546\n",
      "Epoch 14/39\n",
      "48000/48000 [==============================] - 4s 84us/sample - loss: 0.4216 - accuracy: 0.8520 - val_loss: 0.4007 - val_accuracy: 0.8556\n",
      "Epoch 15/39\n",
      "48000/48000 [==============================] - 4s 80us/sample - loss: 0.4131 - accuracy: 0.8552 - val_loss: 0.3957 - val_accuracy: 0.8570\n",
      "Epoch 16/39\n",
      "48000/48000 [==============================] - 4s 81us/sample - loss: 0.4065 - accuracy: 0.8577 - val_loss: 0.3906 - val_accuracy: 0.8593\n",
      "Epoch 17/39\n",
      "48000/48000 [==============================] - 4s 80us/sample - loss: 0.4002 - accuracy: 0.8591 - val_loss: 0.3871 - val_accuracy: 0.8606\n",
      "Epoch 18/39\n",
      "48000/48000 [==============================] - 4s 80us/sample - loss: 0.3951 - accuracy: 0.8599 - val_loss: 0.3830 - val_accuracy: 0.8621\n",
      "Epoch 19/39\n",
      "48000/48000 [==============================] - 4s 82us/sample - loss: 0.3893 - accuracy: 0.8633 - val_loss: 0.3792 - val_accuracy: 0.8635\n",
      "Epoch 20/39\n",
      "48000/48000 [==============================] - 4s 81us/sample - loss: 0.3853 - accuracy: 0.8649 - val_loss: 0.3771 - val_accuracy: 0.8643\n",
      "Epoch 21/39\n",
      "48000/48000 [==============================] - 4s 80us/sample - loss: 0.3816 - accuracy: 0.8659 - val_loss: 0.3734 - val_accuracy: 0.8652\n",
      "Epoch 22/39\n",
      "48000/48000 [==============================] - 4s 80us/sample - loss: 0.3735 - accuracy: 0.8692 - val_loss: 0.3702 - val_accuracy: 0.8666\n",
      "Epoch 23/39\n",
      "48000/48000 [==============================] - 4s 82us/sample - loss: 0.3733 - accuracy: 0.8683 - val_loss: 0.3680 - val_accuracy: 0.8677\n",
      "Epoch 24/39\n",
      "48000/48000 [==============================] - 4s 90us/sample - loss: 0.3672 - accuracy: 0.8700 - val_loss: 0.3664 - val_accuracy: 0.8679\n",
      "Epoch 25/39\n",
      "48000/48000 [==============================] - 4s 87us/sample - loss: 0.3621 - accuracy: 0.8721 - val_loss: 0.3640 - val_accuracy: 0.8691\n",
      "Epoch 26/39\n",
      "48000/48000 [==============================] - 4s 90us/sample - loss: 0.3603 - accuracy: 0.8715 - val_loss: 0.3608 - val_accuracy: 0.8697\n",
      "Epoch 27/39\n",
      "48000/48000 [==============================] - 4s 85us/sample - loss: 0.3574 - accuracy: 0.8729 - val_loss: 0.3594 - val_accuracy: 0.8705\n",
      "Epoch 28/39\n",
      "48000/48000 [==============================] - 4s 88us/sample - loss: 0.3543 - accuracy: 0.8750 - val_loss: 0.3575 - val_accuracy: 0.8712\n",
      "Epoch 29/39\n",
      "48000/48000 [==============================] - 5s 98us/sample - loss: 0.3496 - accuracy: 0.8760 - val_loss: 0.3566 - val_accuracy: 0.8716\n",
      "Epoch 30/39\n",
      "48000/48000 [==============================] - 4s 86us/sample - loss: 0.3476 - accuracy: 0.8772 - val_loss: 0.3541 - val_accuracy: 0.8716\n",
      "Epoch 31/39\n",
      "48000/48000 [==============================] - 4s 83us/sample - loss: 0.3419 - accuracy: 0.8785 - val_loss: 0.3520 - val_accuracy: 0.8720\n",
      "Epoch 32/39\n",
      "48000/48000 [==============================] - 4s 91us/sample - loss: 0.3392 - accuracy: 0.8791 - val_loss: 0.3512 - val_accuracy: 0.8721\n",
      "Epoch 33/39\n",
      "48000/48000 [==============================] - 4s 85us/sample - loss: 0.3385 - accuracy: 0.8794 - val_loss: 0.3497 - val_accuracy: 0.8723\n",
      "Epoch 34/39\n",
      "48000/48000 [==============================] - 4s 92us/sample - loss: 0.3336 - accuracy: 0.8813 - val_loss: 0.3498 - val_accuracy: 0.8715\n",
      "Epoch 35/39\n",
      "48000/48000 [==============================] - 4s 91us/sample - loss: 0.3321 - accuracy: 0.8817 - val_loss: 0.3475 - val_accuracy: 0.8726\n",
      "Epoch 36/39\n",
      "48000/48000 [==============================] - 4s 88us/sample - loss: 0.3296 - accuracy: 0.8827 - val_loss: 0.3463 - val_accuracy: 0.8732\n",
      "Epoch 37/39\n",
      "48000/48000 [==============================] - 4s 92us/sample - loss: 0.3266 - accuracy: 0.8834 - val_loss: 0.3444 - val_accuracy: 0.8741\n",
      "Epoch 38/39\n",
      "48000/48000 [==============================] - 4s 86us/sample - loss: 0.3237 - accuracy: 0.8846 - val_loss: 0.3434 - val_accuracy: 0.8736\n",
      "Epoch 39/39\n",
      "48000/48000 [==============================] - 4s 90us/sample - loss: 0.3233 - accuracy: 0.8856 - val_loss: 0.3418 - val_accuracy: 0.8739\n"
     ]
    }
   ],
   "source": [
    "history_batch2=batch_model3.fit(X_train,Y_train,epochs = 39, validation_split= 0.2)"
   ]
  },
  {
   "cell_type": "code",
   "execution_count": 62,
   "metadata": {},
   "outputs": [
    {
     "data": {
      "text/plain": [
       "{'batch_size': 32,\n",
       " 'epochs': 39,\n",
       " 'steps': 1500,\n",
       " 'samples': 48000,\n",
       " 'verbose': 0,\n",
       " 'do_validation': True,\n",
       " 'metrics': ['loss', 'accuracy', 'val_loss', 'val_accuracy']}"
      ]
     },
     "execution_count": 62,
     "metadata": {},
     "output_type": "execute_result"
    }
   ],
   "source": [
    "history_batch2.params"
   ]
  },
  {
   "cell_type": "code",
   "execution_count": 63,
   "metadata": {},
   "outputs": [
    {
     "data": {
      "text/plain": [
       "dict_keys(['loss', 'accuracy', 'val_loss', 'val_accuracy'])"
      ]
     },
     "execution_count": 63,
     "metadata": {},
     "output_type": "execute_result"
    }
   ],
   "source": [
    "history_batch2.history.keys()"
   ]
  },
  {
   "cell_type": "code",
   "execution_count": 64,
   "metadata": {},
   "outputs": [
    {
     "data": {
      "image/png": "[encoded data removed]",
      "text/plain": [
       "<Figure size 576x360 with 1 Axes>"
      ]
     },
     "metadata": {
      "needs_background": "light"
     },
     "output_type": "display_data"
    }
   ],
   "source": [
    "pd.DataFrame(history_batch2.history).plot(figsize=(8, 5))\n",
    "plt.grid(True)\n",
    "plt.gca().set_ylim(0, 1)\n",
    "plt.show()"
   ]
  },
  {
   "cell_type": "code",
   "execution_count": 65,
   "metadata": {},
   "outputs": [
    {
     "name": "stdout",
     "output_type": "stream",
     "text": [
      "10000/10000 [==============================] - 1s 68us/sample - loss: 0.3647 - accuracy: 0.8691\n"
     ]
    },
    {
     "data": {
      "text/plain": [
       "[0.364662722158432, 0.8691]"
      ]
     },
     "execution_count": 65,
     "metadata": {},
     "output_type": "execute_result"
    }
   ],
   "source": [
    "batch_model3.evaluate(X_test, Y_test)"
   ]
  },
  {
   "cell_type": "markdown",
   "metadata": {},
   "source": [
    "**Last we found that for this model Bacth Normalization is perfect when we use it before activation function**"
   ]
  },
  {
   "cell_type": "markdown",
   "metadata": {},
   "source": [
    "**After all the test we found that for this model we should use (PRelu activation function , he_normal for kernel_initializer and use Batch Normalization before activation function).**\n",
    "\n",
    "**There are more other methods for discuss in next file like(Transfer learning, Relularization, Keras Tuner)etc.**"
   ]
  },
  {
   "cell_type": "code",
   "execution_count": null,
   "metadata": {},
   "outputs": [],
   "source": []
  }
 ],
 "metadata": {
  "kernelspec": {
   "display_name": "Python 3",
   "language": "python",
   "name": "python3"
  },
  "language_info": {
   "codemirror_mode": {
    "name": "ipython",
    "version": 3
   },
   "file_extension": ".py",
   "mimetype": "text/x-python",
   "name": "python",
   "nbconvert_exporter": "python",
   "pygments_lexer": "ipython3",
   "version": "3.7.7"
  }
 },
 "nbformat": 4,
 "nbformat_minor": 4
}
